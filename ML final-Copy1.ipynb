{
 "cells": [
  {
   "cell_type": "markdown",
   "metadata": {},
   "source": [
    "# AIQDSC27 –Machine Learning Algorithms Nicola Ronzoni \n",
    "\n",
    "\n",
    "The final goal of the project is to develop a model that combine no-text info (numeric and categorical variables) and text-info (doctor's reports), that predict re-hospitalization. To simplify the problem I use as target variable the OUTPUT_LABEL 0 if the patient will not be re-hospitalized 1 if the patient will be re-hospitalized, the reason of this choice will be explained later. I will develop more than one model and try to select the best one on the basis of metrics for classification problem. \n",
    "\n",
    "<h2>The project have different sections:<span class=\"tocSkip\"></span></h2>\n",
    "<div class=\"toc\"><ul class=\"toc-item\"><li><span><a href=\"#Load,-inspect-and-filter-the-data\" data-toc-modified-id=\"Load, inspect and filter the data\"><span class=\"toc-item-num\">1&nbsp;&nbsp;</span>Load, inspect and filter the data</a></span></li><li><span><a href=\"#Normalization-of-the-text\" data-toc-modified-id=\"Normalization of the text\"><span class=\"toc-item-num\">2&nbsp;&nbsp;</span>Normalization of the text</a></span></li><li><span><a href=\"#Treatment-of-datetime-variable\" data-toc-modified-id=\"Treatment of datetime variable\"><span class=\"toc-item-num\">3&nbsp;&nbsp;</span>Treatment of datetime variable</a></span></li><li><span><a href=\"#Convertion-of-categorical-variables-in-numeric-ones\" data-toc-modified-id=\"Convertion of categorical variables into numeric ones\"><span class=\"toc-item-num\">4&nbsp;&nbsp;</span>Convertion of categorical variables into numeric ones</a></span></li><li><span><a href=\"#Creation-of-the-dataset-for-the-models\" data-toc-modified-id=\"Creation of the dataset for the models\"><span class=\"toc-item-num\">5&nbsp;&nbsp;</span>Creation of the dataset for the models</a></span></li><li><span><a href=\"#Definition-of-the-target\" data-toc-modified-id=\"Target variable for the models\"><span class=\"toc-item-num\">6&nbsp;&nbsp;</span>Target variable for the models</a></span></li><li><span><a href=\"#Treatment-of-Normalized-text\" data-toc-modified-id=\"Convertion of normalized text information\"><span class=\"toc-item-num\">7&nbsp;&nbsp;</span>Convertion of normalized text information</a></span></li><li><span><a href=\"#Feature-selection-for-the-models\" data-toc-modified-id=\"Feature selection for the models\"><span class=\"toc-item-num\">8&nbsp;&nbsp;</span>Feature selection for the models</a></span></li><li><span><a href=\"#Models\" data-toc-modified-id=\"Models\"><span class=\"toc-item-num\">9&nbsp;&nbsp;</span>Models</a></span></li>\n",
    "<li><span><a href=\"#Evaluation-of-the-metrics-and-conclusion\" data-toc-modified-id=\"Evaluation of the metrics and conclusion\"><span class=\"toc-item-num\">10&nbsp;&nbsp;</span>Evaluation of the metrics and conclusion</a></span></li>"
   ]
  },
  {
   "cell_type": "markdown",
   "metadata": {},
   "source": [
    "## Load, inspect and filter the data   \n"
   ]
  },
  {
   "cell_type": "code",
   "execution_count": 1,
   "metadata": {},
   "outputs": [],
   "source": [
    "import pandas as pd\n",
    "%matplotlib inline\n",
    "from sklearn.preprocessing import StandardScaler\n",
    "from sklearn.model_selection import train_test_split\n",
    "from matplotlib.colors import ListedColormap\n",
    "import numpy as np\n",
    "import pandas as pd\n",
    "import matplotlib.pyplot as plt\n",
    "import seaborn as sns\n"
   ]
  },
  {
   "cell_type": "code",
   "execution_count": 2,
   "metadata": {
    "scrolled": true
   },
   "outputs": [
    {
     "data": {
      "text/html": [
       "<div>\n",
       "<style scoped>\n",
       "    .dataframe tbody tr th:only-of-type {\n",
       "        vertical-align: middle;\n",
       "    }\n",
       "\n",
       "    .dataframe tbody tr th {\n",
       "        vertical-align: top;\n",
       "    }\n",
       "\n",
       "    .dataframe thead th {\n",
       "        text-align: right;\n",
       "    }\n",
       "</style>\n",
       "<table border=\"1\" class=\"dataframe\">\n",
       "  <thead>\n",
       "    <tr style=\"text-align: right;\">\n",
       "      <th></th>\n",
       "      <th>SUBJECT_ID</th>\n",
       "      <th>HADM_ID</th>\n",
       "      <th>ADMITTIME</th>\n",
       "      <th>DISCHTIME</th>\n",
       "      <th>DAYS_NEXT_ADMIT</th>\n",
       "      <th>NEXT_ADMITTIME</th>\n",
       "      <th>ADMISSION_TYPE</th>\n",
       "      <th>DEATHTIME</th>\n",
       "      <th>DISCHARGE_LOCATION</th>\n",
       "      <th>INSURANCE</th>\n",
       "      <th>...</th>\n",
       "      <th>mental</th>\n",
       "      <th>misc</th>\n",
       "      <th>muscular</th>\n",
       "      <th>neoplasms</th>\n",
       "      <th>nervous</th>\n",
       "      <th>pregnancy</th>\n",
       "      <th>prenatal</th>\n",
       "      <th>respiratory</th>\n",
       "      <th>skin</th>\n",
       "      <th>OUTPUT_LABEL</th>\n",
       "    </tr>\n",
       "  </thead>\n",
       "  <tbody>\n",
       "    <tr>\n",
       "      <th>0</th>\n",
       "      <td>937</td>\n",
       "      <td>148592</td>\n",
       "      <td>2163-01-20 18:39:00</td>\n",
       "      <td>2163-01-24 08:00:00</td>\n",
       "      <td>0.061806</td>\n",
       "      <td>2163-01-24 09:29:00</td>\n",
       "      <td>EMERGENCY</td>\n",
       "      <td>2163-01-26 08:00:00</td>\n",
       "      <td>DEAD/EXPIRED</td>\n",
       "      <td>Medicare</td>\n",
       "      <td>...</td>\n",
       "      <td>0</td>\n",
       "      <td>0</td>\n",
       "      <td>0</td>\n",
       "      <td>0</td>\n",
       "      <td>1</td>\n",
       "      <td>0</td>\n",
       "      <td>0</td>\n",
       "      <td>0</td>\n",
       "      <td>0</td>\n",
       "      <td>1</td>\n",
       "    </tr>\n",
       "    <tr>\n",
       "      <th>1</th>\n",
       "      <td>3016</td>\n",
       "      <td>159142</td>\n",
       "      <td>2107-01-23 02:45:00</td>\n",
       "      <td>2107-01-26 14:00:00</td>\n",
       "      <td>NaN</td>\n",
       "      <td>NaN</td>\n",
       "      <td>EMERGENCY</td>\n",
       "      <td>NaN</td>\n",
       "      <td>HOME HEALTH CARE</td>\n",
       "      <td>Medicare</td>\n",
       "      <td>...</td>\n",
       "      <td>2</td>\n",
       "      <td>0</td>\n",
       "      <td>0</td>\n",
       "      <td>0</td>\n",
       "      <td>0</td>\n",
       "      <td>0</td>\n",
       "      <td>0</td>\n",
       "      <td>1</td>\n",
       "      <td>0</td>\n",
       "      <td>0</td>\n",
       "    </tr>\n",
       "    <tr>\n",
       "      <th>2</th>\n",
       "      <td>2187</td>\n",
       "      <td>186282</td>\n",
       "      <td>2134-06-24 23:30:00</td>\n",
       "      <td>2134-07-02 17:45:00</td>\n",
       "      <td>NaN</td>\n",
       "      <td>NaN</td>\n",
       "      <td>EMERGENCY</td>\n",
       "      <td>NaN</td>\n",
       "      <td>REHAB/DISTINCT PART HOSP</td>\n",
       "      <td>Medicaid</td>\n",
       "      <td>...</td>\n",
       "      <td>1</td>\n",
       "      <td>2</td>\n",
       "      <td>1</td>\n",
       "      <td>0</td>\n",
       "      <td>3</td>\n",
       "      <td>0</td>\n",
       "      <td>0</td>\n",
       "      <td>4</td>\n",
       "      <td>0</td>\n",
       "      <td>0</td>\n",
       "    </tr>\n",
       "    <tr>\n",
       "      <th>3</th>\n",
       "      <td>19213</td>\n",
       "      <td>140312</td>\n",
       "      <td>2202-11-02 12:32:00</td>\n",
       "      <td>2202-11-05 14:20:00</td>\n",
       "      <td>12.968056</td>\n",
       "      <td>2202-11-18 13:34:00</td>\n",
       "      <td>EMERGENCY</td>\n",
       "      <td>NaN</td>\n",
       "      <td>HOME</td>\n",
       "      <td>Medicare</td>\n",
       "      <td>...</td>\n",
       "      <td>0</td>\n",
       "      <td>0</td>\n",
       "      <td>0</td>\n",
       "      <td>0</td>\n",
       "      <td>0</td>\n",
       "      <td>0</td>\n",
       "      <td>0</td>\n",
       "      <td>1</td>\n",
       "      <td>1</td>\n",
       "      <td>1</td>\n",
       "    </tr>\n",
       "    <tr>\n",
       "      <th>4</th>\n",
       "      <td>425</td>\n",
       "      <td>118058</td>\n",
       "      <td>2149-05-13 12:23:00</td>\n",
       "      <td>2149-05-26 20:00:00</td>\n",
       "      <td>NaN</td>\n",
       "      <td>NaN</td>\n",
       "      <td>EMERGENCY</td>\n",
       "      <td>NaN</td>\n",
       "      <td>HOME HEALTH CARE</td>\n",
       "      <td>Medicare</td>\n",
       "      <td>...</td>\n",
       "      <td>0</td>\n",
       "      <td>0</td>\n",
       "      <td>0</td>\n",
       "      <td>0</td>\n",
       "      <td>0</td>\n",
       "      <td>0</td>\n",
       "      <td>0</td>\n",
       "      <td>2</td>\n",
       "      <td>1</td>\n",
       "      <td>0</td>\n",
       "    </tr>\n",
       "  </tbody>\n",
       "</table>\n",
       "<p>5 rows × 34 columns</p>\n",
       "</div>"
      ],
      "text/plain": [
       "   SUBJECT_ID  HADM_ID            ADMITTIME            DISCHTIME  \\\n",
       "0         937   148592  2163-01-20 18:39:00  2163-01-24 08:00:00   \n",
       "1        3016   159142  2107-01-23 02:45:00  2107-01-26 14:00:00   \n",
       "2        2187   186282  2134-06-24 23:30:00  2134-07-02 17:45:00   \n",
       "3       19213   140312  2202-11-02 12:32:00  2202-11-05 14:20:00   \n",
       "4         425   118058  2149-05-13 12:23:00  2149-05-26 20:00:00   \n",
       "\n",
       "   DAYS_NEXT_ADMIT       NEXT_ADMITTIME ADMISSION_TYPE            DEATHTIME  \\\n",
       "0         0.061806  2163-01-24 09:29:00      EMERGENCY  2163-01-26 08:00:00   \n",
       "1              NaN                  NaN      EMERGENCY                  NaN   \n",
       "2              NaN                  NaN      EMERGENCY                  NaN   \n",
       "3        12.968056  2202-11-18 13:34:00      EMERGENCY                  NaN   \n",
       "4              NaN                  NaN      EMERGENCY                  NaN   \n",
       "\n",
       "         DISCHARGE_LOCATION INSURANCE  ... mental misc muscular neoplasms  \\\n",
       "0              DEAD/EXPIRED  Medicare  ...      0    0        0         0   \n",
       "1          HOME HEALTH CARE  Medicare  ...      2    0        0         0   \n",
       "2  REHAB/DISTINCT PART HOSP  Medicaid  ...      1    2        1         0   \n",
       "3                      HOME  Medicare  ...      0    0        0         0   \n",
       "4          HOME HEALTH CARE  Medicare  ...      0    0        0         0   \n",
       "\n",
       "  nervous pregnancy  prenatal  respiratory  skin  OUTPUT_LABEL  \n",
       "0       1         0         0            0     0             1  \n",
       "1       0         0         0            1     0             0  \n",
       "2       3         0         0            4     0             0  \n",
       "3       0         0         0            1     1             1  \n",
       "4       0         0         0            2     1             0  \n",
       "\n",
       "[5 rows x 34 columns]"
      ]
     },
     "execution_count": 2,
     "metadata": {},
     "output_type": "execute_result"
    }
   ],
   "source": [
    "#import train and test sets\n",
    "df_train = pd.read_csv(\"http://www.i3s.unice.fr/~riveill/dataset/MIMIC-III-readmission/train.csv.zip\")\n",
    "df_test = pd.read_csv(\"http://www.i3s.unice.fr/~riveill/dataset/MIMIC-III-readmission/test.csv.zip\")\n",
    "\n",
    "\n",
    "df_train.head()\n"
   ]
  },
  {
   "cell_type": "code",
   "execution_count": 3,
   "metadata": {},
   "outputs": [
    {
     "data": {
      "text/plain": [
       "((2000, 34), (901, 34))"
      ]
     },
     "execution_count": 3,
     "metadata": {},
     "output_type": "execute_result"
    }
   ],
   "source": [
    "#shape of the train and test set\n",
    "df_train.shape, df_test.shape"
   ]
  },
  {
   "cell_type": "code",
   "execution_count": 4,
   "metadata": {},
   "outputs": [
    {
     "name": "stdout",
     "output_type": "stream",
     "text": [
      "<class 'pandas.core.frame.DataFrame'>\n",
      "RangeIndex: 2000 entries, 0 to 1999\n",
      "Data columns (total 34 columns):\n",
      " #   Column              Non-Null Count  Dtype  \n",
      "---  ------              --------------  -----  \n",
      " 0   SUBJECT_ID          2000 non-null   int64  \n",
      " 1   HADM_ID             2000 non-null   int64  \n",
      " 2   ADMITTIME           2000 non-null   object \n",
      " 3   DISCHTIME           2000 non-null   object \n",
      " 4   DAYS_NEXT_ADMIT     1210 non-null   float64\n",
      " 5   NEXT_ADMITTIME      1210 non-null   object \n",
      " 6   ADMISSION_TYPE      2000 non-null   object \n",
      " 7   DEATHTIME           158 non-null    object \n",
      " 8   DISCHARGE_LOCATION  2000 non-null   object \n",
      " 9   INSURANCE           2000 non-null   object \n",
      " 10  MARITAL_STATUS      1924 non-null   object \n",
      " 11  ETHNICITY           2000 non-null   object \n",
      " 12  DIAGNOSIS           1998 non-null   object \n",
      " 13  TEXT                1925 non-null   object \n",
      " 14  GENDER              2000 non-null   object \n",
      " 15  DOB                 2000 non-null   object \n",
      " 16  blood               2000 non-null   int64  \n",
      " 17  circulatory         2000 non-null   int64  \n",
      " 18  congenital          2000 non-null   int64  \n",
      " 19  digestive           2000 non-null   int64  \n",
      " 20  endocrine           2000 non-null   int64  \n",
      " 21  genitourinary       2000 non-null   int64  \n",
      " 22  infectious          2000 non-null   int64  \n",
      " 23  injury              2000 non-null   int64  \n",
      " 24  mental              2000 non-null   int64  \n",
      " 25  misc                2000 non-null   int64  \n",
      " 26  muscular            2000 non-null   int64  \n",
      " 27  neoplasms           2000 non-null   int64  \n",
      " 28  nervous             2000 non-null   int64  \n",
      " 29  pregnancy           2000 non-null   int64  \n",
      " 30  prenatal            2000 non-null   int64  \n",
      " 31  respiratory         2000 non-null   int64  \n",
      " 32  skin                2000 non-null   int64  \n",
      " 33  OUTPUT_LABEL        2000 non-null   int64  \n",
      "dtypes: float64(1), int64(20), object(13)\n",
      "memory usage: 531.4+ KB\n"
     ]
    }
   ],
   "source": [
    "#Number of non-Nan values per variable in train test \n",
    "df_train.info()"
   ]
  },
  {
   "cell_type": "code",
   "execution_count": 5,
   "metadata": {},
   "outputs": [
    {
     "name": "stdout",
     "output_type": "stream",
     "text": [
      "<class 'pandas.core.frame.DataFrame'>\n",
      "RangeIndex: 901 entries, 0 to 900\n",
      "Data columns (total 34 columns):\n",
      " #   Column              Non-Null Count  Dtype  \n",
      "---  ------              --------------  -----  \n",
      " 0   SUBJECT_ID          901 non-null    int64  \n",
      " 1   HADM_ID             901 non-null    int64  \n",
      " 2   ADMITTIME           901 non-null    object \n",
      " 3   DISCHTIME           901 non-null    object \n",
      " 4   DAYS_NEXT_ADMIT     526 non-null    float64\n",
      " 5   NEXT_ADMITTIME      526 non-null    object \n",
      " 6   ADMISSION_TYPE      901 non-null    object \n",
      " 7   DEATHTIME           58 non-null     object \n",
      " 8   DISCHARGE_LOCATION  901 non-null    object \n",
      " 9   INSURANCE           901 non-null    object \n",
      " 10  MARITAL_STATUS      861 non-null    object \n",
      " 11  ETHNICITY           901 non-null    object \n",
      " 12  DIAGNOSIS           901 non-null    object \n",
      " 13  TEXT                871 non-null    object \n",
      " 14  GENDER              901 non-null    object \n",
      " 15  DOB                 901 non-null    object \n",
      " 16  blood               901 non-null    int64  \n",
      " 17  circulatory         901 non-null    int64  \n",
      " 18  congenital          901 non-null    int64  \n",
      " 19  digestive           901 non-null    int64  \n",
      " 20  endocrine           901 non-null    int64  \n",
      " 21  genitourinary       901 non-null    int64  \n",
      " 22  infectious          901 non-null    int64  \n",
      " 23  injury              901 non-null    int64  \n",
      " 24  mental              901 non-null    int64  \n",
      " 25  misc                901 non-null    int64  \n",
      " 26  muscular            901 non-null    int64  \n",
      " 27  neoplasms           901 non-null    int64  \n",
      " 28  nervous             901 non-null    int64  \n",
      " 29  pregnancy           901 non-null    int64  \n",
      " 30  prenatal            901 non-null    int64  \n",
      " 31  respiratory         901 non-null    int64  \n",
      " 32  skin                901 non-null    int64  \n",
      " 33  OUTPUT_LABEL        901 non-null    int64  \n",
      "dtypes: float64(1), int64(20), object(13)\n",
      "memory usage: 239.5+ KB\n"
     ]
    }
   ],
   "source": [
    "#number of non-Nan values in the test set \n",
    "df_test.info()"
   ]
  },
  {
   "cell_type": "markdown",
   "metadata": {},
   "source": [
    "Looking for Nan. \n",
    "\n",
    "\n",
    "From this preliminary inspection I can see that Nan values are really common in DEATHTIME, followed by NEXT_ADMITTIME and DAYS_NEXT_ADMIT in both test and train set "
   ]
  },
  {
   "cell_type": "markdown",
   "metadata": {},
   "source": [
    "Since I would like to predict re-hospitalization, I delete observation of death patient in order to avoid data leakage. \n",
    "I would like to obtain a model that works with alive patients. If I train the model considering also death patients this additional information can allow the model to learn or know something that it otherwise would not know.\n"
   ]
  },
  {
   "cell_type": "code",
   "execution_count": 6,
   "metadata": {},
   "outputs": [],
   "source": [
    "# keep patients in which Deathtime equal to Nan in train and test set \n",
    "df_train=df_train[df_train['DEATHTIME'].isna()]\n",
    "df_test=df_test[df_test['DEATHTIME'].isna()]"
   ]
  },
  {
   "cell_type": "code",
   "execution_count": 7,
   "metadata": {},
   "outputs": [
    {
     "data": {
      "text/plain": [
       "((1842, 34), (843, 34))"
      ]
     },
     "execution_count": 7,
     "metadata": {},
     "output_type": "execute_result"
    }
   ],
   "source": [
    "df_train.shape, df_test.shape"
   ]
  },
  {
   "cell_type": "markdown",
   "metadata": {},
   "source": [
    "I deleted 158 observation from the train set and 58 observation from the test set "
   ]
  },
  {
   "cell_type": "markdown",
   "metadata": {},
   "source": [
    "Another thing to do in order to develop a good model is to delete the observation of patient that are re-hospitalized after more than one year. If I look at the distribution of the DAYS_NEXT_ADMIT I have more than 90% of the re-hospitalization before one year of time. After one year it is possible that the past medical history of the patient affect less the re-hospitalization rate. In addition exogenous variable can influence the final output (car accident, broken leg ...). By doing that I reduce the area of the prediction to one year time after the last re-hospitalization but I reduce the impact of exogenous variable on the prediction.  "
   ]
  },
  {
   "cell_type": "code",
   "execution_count": 8,
   "metadata": {},
   "outputs": [
    {
     "data": {
      "text/plain": [
       "(208.11277777777795, 122.87708333333332)"
      ]
     },
     "execution_count": 8,
     "metadata": {},
     "output_type": "execute_result"
    }
   ],
   "source": [
    "#look at the 90th percentile of DAYS_NEXT_ADMIT in train and test set \n",
    "df_train['DAYS_NEXT_ADMIT'].quantile(0.90), df_test['DAYS_NEXT_ADMIT'].quantile(0.90)\n"
   ]
  },
  {
   "cell_type": "code",
   "execution_count": 9,
   "metadata": {},
   "outputs": [],
   "source": [
    "#delete observation of the patient for which the time passed between the last two hospitalization is greater than one year \n",
    "#train\n",
    "df_train= df_train[~(df_train['DAYS_NEXT_ADMIT'] >365)]\n",
    "#test\n",
    "df_test= df_test[~(df_test['DAYS_NEXT_ADMIT'] > 365)]"
   ]
  },
  {
   "cell_type": "code",
   "execution_count": 10,
   "metadata": {},
   "outputs": [
    {
     "data": {
      "text/plain": [
       "((1748, 34), (811, 34))"
      ]
     },
     "execution_count": 10,
     "metadata": {},
     "output_type": "execute_result"
    }
   ],
   "source": [
    "df_train.shape, df_test.shape"
   ]
  },
  {
   "cell_type": "markdown",
   "metadata": {},
   "source": [
    "I deleted 94 observations from the train set and 32 observations from the test"
   ]
  },
  {
   "cell_type": "markdown",
   "metadata": {},
   "source": [
    "df_train and df_test will be sets in which i will put all new variable that I create. After that i will select careful the most important ones"
   ]
  },
  {
   "cell_type": "markdown",
   "metadata": {},
   "source": [
    "## Normalization of the text "
   ]
  },
  {
   "cell_type": "markdown",
   "metadata": {},
   "source": [
    "\n",
    "By normalizing the reports, I attempt to reduce the randomness in it, bringing it closer to a predefined “standard”. This helps into reducing the amount of different information that the computer has to deal, and therefore improves efficiency. In addition I would like preserve information with high variability in order to explain our target variable \n"
   ]
  },
  {
   "cell_type": "markdown",
   "metadata": {},
   "source": [
    "At the end of this stage i will upload the new texts treated in df_train and df_test"
   ]
  },
  {
   "cell_type": "markdown",
   "metadata": {},
   "source": [
    "In order to compute the normalization I select only the column of text from the train and test sets"
   ]
  },
  {
   "cell_type": "code",
   "execution_count": 11,
   "metadata": {},
   "outputs": [
    {
     "data": {
      "text/plain": [
       "(dtype('O'), (811,))"
      ]
     },
     "execution_count": 11,
     "metadata": {},
     "output_type": "execute_result"
    }
   ],
   "source": [
    "#test\n",
    "\n",
    "text_test=df_test['TEXT']\n",
    "\n",
    "text_test.dtypes, text_test.shape\n",
    "\n"
   ]
  },
  {
   "cell_type": "code",
   "execution_count": 12,
   "metadata": {},
   "outputs": [
    {
     "data": {
      "text/plain": [
       "(dtype('O'), (1748,))"
      ]
     },
     "execution_count": 12,
     "metadata": {},
     "output_type": "execute_result"
    }
   ],
   "source": [
    "#train \n",
    "\n",
    "text_train=df_train['TEXT']\n",
    "text_train.dtypes, text_train.shape\n"
   ]
  },
  {
   "cell_type": "markdown",
   "metadata": {},
   "source": [
    "Convertion of Upper case in lower case in the text_train and text_test arrays"
   ]
  },
  {
   "cell_type": "code",
   "execution_count": 13,
   "metadata": {},
   "outputs": [],
   "source": [
    "#convert text in lower case \n",
    "import nltk.corpus\n",
    "from nltk.corpus import stopwords\n",
    "#nltk.download('stopwords')\n",
    "from nltk.tokenize import word_tokenize\n",
    "#test\n",
    "text_test_lw =[]\n",
    "for text in text_test:\n",
    "    text_tokens_train=word_tokenize(str(text))\n",
    "    lower_train=' '.join([w.lower() for w in text_tokens_train])\n",
    "    text_test_lw.append(lower_train)\n",
    "#train \n",
    "text_train_lw =[]\n",
    "for text in text_train:\n",
    "    text_tokens_train=word_tokenize(str(text))\n",
    "    lower_train=' '.join([w.lower() for w in text_tokens_train])\n",
    "    text_train_lw.append(lower_train)\n",
    "    \n"
   ]
  },
  {
   "cell_type": "markdown",
   "metadata": {},
   "source": [
    "Remove punctuation sign: This step is really important, in doctor's reports there is a predefined layout with a lot of sign such as:\n",
    "    [ ] * , . ; : "
   ]
  },
  {
   "cell_type": "code",
   "execution_count": 14,
   "metadata": {},
   "outputs": [],
   "source": [
    "#remove some punctuation sign\n",
    "\n",
    "import string\n",
    "#test\n",
    "test_pc =[]\n",
    "for text in text_test_lw:\n",
    "    text_tokens_train=word_tokenize(str(text))\n",
    "    punctual_train=' '.join([w.translate(str.maketrans('', '', string.punctuation)) for w in text_tokens_train])\n",
    "    test_pc.append(punctual_train)\n",
    "#train \n",
    "train_pc =[]\n",
    "for text in text_train_lw:\n",
    "    text_tokens_train=word_tokenize(str(text))\n",
    "    punctual_train=' '.join([w.translate(str.maketrans('', '', string.punctuation)) for w in text_tokens_train])\n",
    "    train_pc.append(punctual_train)\n",
    "\n",
    "  \n",
    "    \n",
    "\n",
    "\n",
    "\n",
    "\n"
   ]
  },
  {
   "cell_type": "markdown",
   "metadata": {},
   "source": [
    "Stemming: Crude heuristic process that cuts off the end of words in the hope of achieving a reduction in the forms of a word. "
   ]
  },
  {
   "cell_type": "code",
   "execution_count": 15,
   "metadata": {},
   "outputs": [],
   "source": [
    "#stemming\n",
    "from nltk.stem import PorterStemmer\n",
    "from nltk.stem import LancasterStemmer\n",
    "stemmer = PorterStemmer()\n",
    "#test\n",
    "test_stem=[]\n",
    "for text in test_pc:\n",
    "    text_tokens_train=word_tokenize(str(text))\n",
    "    stemmatized_train=' '.join([stemmer.stem(w) for w in text_tokens_train])\n",
    "    test_stem.append(stemmatized_train)\n",
    "#train\n",
    "train_stem=[]\n",
    "for text in train_pc:\n",
    "    text_tokens_train=word_tokenize(str(text))\n",
    "    stemmatized_train=' '.join([stemmer.stem(w) for w in text_tokens_train])\n",
    "    train_stem.append(stemmatized_train)\n",
    "\n",
    "    \n"
   ]
  },
  {
   "cell_type": "markdown",
   "metadata": {},
   "source": [
    "Remove number: Date of birth, admission, dismission are present in clinical reports. They involve a lot of numbers, and in addition I have already this information in numerical variables.  "
   ]
  },
  {
   "cell_type": "code",
   "execution_count": 16,
   "metadata": {},
   "outputs": [],
   "source": [
    "#remove number \n",
    "\n",
    "import re\n",
    "#test\n",
    "test_nu =[]\n",
    "for text in test_stem:\n",
    "    text_tokens_train=word_tokenize(str(text))\n",
    "    nonum_train=' '.join([re.sub(r'\\d+', '', w) for w in text_tokens_train])\n",
    "    test_nu.append(nonum_train)\n",
    "#train\n",
    "train_nu =[]\n",
    "for text in train_stem:\n",
    "    text_tokens_train=word_tokenize(str(text))\n",
    "    nonum_train=' '.join([re.sub(r'\\d+', '', w) for w in text_tokens_train])\n",
    "    train_nu.append(nonum_train)\n",
    "\n",
    "\n",
    "\n",
    "    "
   ]
  },
  {
   "cell_type": "markdown",
   "metadata": {},
   "source": [
    "Remove words that appears less than 5 times.The Majority of report's have more than 1000 words. With this passage I delete useless information"
   ]
  },
  {
   "cell_type": "code",
   "execution_count": 17,
   "metadata": {},
   "outputs": [],
   "source": [
    "#remove words that appears less than 5 times   \n",
    "from collections import Counter \n",
    "\n",
    "#train \n",
    "train_k=[]\n",
    "for text in train_nu: \n",
    "    text_tokens_train=word_tokenize(str(text))\n",
    "    counted=Counter(text_tokens_train)\n",
    "    k_train=[el for el in text_tokens_train if text_tokens_train.count(el) >= 5] \n",
    "    more_train=' '.join(k_train)\n",
    "    train_k.append(more_train)\n",
    "#test \n",
    "test_k=[]\n",
    "for text in test_nu: \n",
    "    text_tokens_test=word_tokenize(str(text))\n",
    "    counted=Counter(text_tokens_test)\n",
    "    k_test=[el for el in text_tokens_test if text_tokens_test.count(el) >= 5] \n",
    "    more_test=' '.join(k_test)\n",
    "    test_k.append(more_test)\n",
    "\n",
    "\n",
    "\n"
   ]
  },
  {
   "cell_type": "markdown",
   "metadata": {},
   "source": [
    "Remove stop words, of course I can add other words at the default ones. To do that I have a look at the frequencies of the words in the train set. "
   ]
  },
  {
   "cell_type": "code",
   "execution_count": 18,
   "metadata": {},
   "outputs": [],
   "source": [
    "proof=pd.DataFrame(data=train_k,columns=['proof'])\n",
    "\n"
   ]
  },
  {
   "cell_type": "code",
   "execution_count": 19,
   "metadata": {},
   "outputs": [],
   "source": [
    "top_N = 200\n",
    "proof_1=proof['proof']\n",
    "a = proof_1.str.cat(sep=' ')\n",
    "words = nltk.tokenize.word_tokenize(a)\n",
    "word_dist = nltk.FreqDist(words)\n",
    "rslt = pd.DataFrame(word_dist.most_common(top_N),\n",
    "                    columns=['Word', 'Frequency'])"
   ]
  },
  {
   "cell_type": "code",
   "execution_count": 20,
   "metadata": {},
   "outputs": [
    {
     "name": "stdout",
     "output_type": "stream",
     "text": [
      "        Word  Frequency\n",
      "0        the      57670\n",
      "1        and      50901\n",
      "2         to      44143\n",
      "3         of      42015\n",
      "4         wa      40352\n",
      "..       ...        ...\n",
      "195     evid        587\n",
      "196    stent        584\n",
      "197  without        584\n",
      "198      mcv        584\n",
      "199   atrial        583\n",
      "\n",
      "[200 rows x 2 columns]\n"
     ]
    }
   ],
   "source": [
    "print(rslt)"
   ]
  },
  {
   "cell_type": "markdown",
   "metadata": {},
   "source": [
    " Stop words by default delete: 'ourselves’, ‘hers’, ‘between’, ‘yourself’, ‘but’, ‘again’, ‘there’, ‘about’, ‘once’, ‘during’, ‘out’, ‘very’, ‘having’, ‘with’, ‘they’, ‘own’, ‘an’, ‘be’, ‘some’, ‘for’, ‘do’, ‘its’, ‘yours’, ‘such’, ‘into’, ‘of’, ‘most’, ‘itself’, ‘other’, ‘off’, ‘is’, ‘s’, ‘am’, ‘or’, ‘who’, ‘as’, ‘from’, ‘him’, ‘each’, ‘the’, ‘themselves’, ‘until’, ‘below’, ‘are’, ‘we’, ‘these’, ‘your’, ‘his’, ‘through’, ‘don’, ‘nor’, ‘me’, ‘were’, ‘her’, ‘more’, ‘himself’, ‘this’, ‘down’, ‘should’, ‘our’, ‘their’, ‘while’, ‘above’, ‘both’, ‘up’, ‘to’, ‘ours’, ‘had’, ‘she’, ‘all’, ‘no’, ‘when’, ‘at’, ‘any’, ‘before’, ‘them’, ‘same’, ‘and’, ‘been’, ‘have’, ‘in’, ‘will’, ‘on’, ‘does’, ‘yourselves’, ‘then’, ‘that’, ‘because’, ‘what’, ‘over’, ‘why’, ‘so’, ‘can’, ‘did’, ‘not’, ‘now’, ‘under’, ‘he’, ‘you’, ‘herself’, ‘has’, ‘just’, ‘where’, ‘too’, ‘only’, ‘myself’, ‘which’, ‘those’, ‘i’, ‘after’, ‘few’, ‘whom’, ‘t’, ‘being’, ‘if’, ‘theirs’, ‘my’, ‘against’, ‘a’, ‘by’, ‘doing’, ‘it’, ‘how’, ‘further’, ‘was’, ‘here’, ‘than’.\n",
    " \n",
    " Of course every report has a pre-filled intestation in which words that are not included in the list above are repeated a lot of time such as: 'patient','tablet','name','discharg','sig','histori','admiss','date','namepattern','note','am','pm','telephonefax','m','f','medic','time','servic','call','report','past','present','job','follow','followup','also','blood' \n",
    " \n",
    " In addition I delete all numbers so unit measurement of medicine are useless: 'per','day','mg','md','daili','x','ml'"
   ]
  },
  {
   "cell_type": "code",
   "execution_count": 21,
   "metadata": {},
   "outputs": [],
   "source": [
    "#remove english stop word\n",
    "#creation of the set of stopwords\n",
    "stopwords = nltk.corpus.stopwords.words('english')\n",
    "newStopWords = ['patient','tablet','name','discharg','sig','histori','admiss','date','namepattern','note','am','pm','telephonefax','m','f','medic','time','servic','call','report','past','present','job','day','mg','md','per','daili','blood','follow','followup','also','x','ml','hour']\n",
    "stopwords.extend(newStopWords)\n",
    "#test\n",
    "test_sw = []\n",
    "for text in test_k:\n",
    "    text_tokens_train = word_tokenize(str(text))\n",
    "    tokens_without_sw_train = [word for word in text_tokens_train if not word in stopwords]\n",
    "    tokens_without_sw_s_train = ' '.join(tokens_without_sw_train)\n",
    "    test_sw.append(tokens_without_sw_s_train)\n",
    "#train \n",
    "train_sw = []\n",
    "for text in train_k:\n",
    "    text_tokens_train = word_tokenize(str(text))\n",
    "    tokens_without_sw_train = [word for word in text_tokens_train if not word in stopwords]\n",
    "    tokens_without_sw_s_train = ' '.join(tokens_without_sw_train)\n",
    "    train_sw.append(tokens_without_sw_s_train)\n",
    "\n",
    "    \n"
   ]
  },
  {
   "cell_type": "markdown",
   "metadata": {},
   "source": [
    "Append the new variable to the dataset"
   ]
  },
  {
   "cell_type": "code",
   "execution_count": 22,
   "metadata": {},
   "outputs": [],
   "source": [
    "#append the new var to the dataframe \n",
    "#train\n",
    "df_train.insert(loc=1,column='text',value=train_sw)"
   ]
  },
  {
   "cell_type": "code",
   "execution_count": 23,
   "metadata": {},
   "outputs": [
    {
     "data": {
      "text/html": [
       "<div>\n",
       "<style scoped>\n",
       "    .dataframe tbody tr th:only-of-type {\n",
       "        vertical-align: middle;\n",
       "    }\n",
       "\n",
       "    .dataframe tbody tr th {\n",
       "        vertical-align: top;\n",
       "    }\n",
       "\n",
       "    .dataframe thead th {\n",
       "        text-align: right;\n",
       "    }\n",
       "</style>\n",
       "<table border=\"1\" class=\"dataframe\">\n",
       "  <thead>\n",
       "    <tr style=\"text-align: right;\">\n",
       "      <th></th>\n",
       "      <th>SUBJECT_ID</th>\n",
       "      <th>text</th>\n",
       "      <th>HADM_ID</th>\n",
       "      <th>ADMITTIME</th>\n",
       "      <th>DISCHTIME</th>\n",
       "      <th>DAYS_NEXT_ADMIT</th>\n",
       "      <th>NEXT_ADMITTIME</th>\n",
       "      <th>ADMISSION_TYPE</th>\n",
       "      <th>DEATHTIME</th>\n",
       "      <th>DISCHARGE_LOCATION</th>\n",
       "      <th>...</th>\n",
       "      <th>mental</th>\n",
       "      <th>misc</th>\n",
       "      <th>muscular</th>\n",
       "      <th>neoplasms</th>\n",
       "      <th>nervous</th>\n",
       "      <th>pregnancy</th>\n",
       "      <th>prenatal</th>\n",
       "      <th>respiratory</th>\n",
       "      <th>skin</th>\n",
       "      <th>OUTPUT_LABEL</th>\n",
       "    </tr>\n",
       "  </thead>\n",
       "  <tbody>\n",
       "    <tr>\n",
       "      <th>1</th>\n",
       "      <td>3016</td>\n",
       "      <td>male one year ago wa alcohol male first unit g...</td>\n",
       "      <td>159142</td>\n",
       "      <td>2107-01-23 02:45:00</td>\n",
       "      <td>2107-01-26 14:00:00</td>\n",
       "      <td>NaN</td>\n",
       "      <td>NaN</td>\n",
       "      <td>EMERGENCY</td>\n",
       "      <td>NaN</td>\n",
       "      <td>HOME HEALTH CARE</td>\n",
       "      <td>...</td>\n",
       "      <td>2</td>\n",
       "      <td>0</td>\n",
       "      <td>0</td>\n",
       "      <td>0</td>\n",
       "      <td>0</td>\n",
       "      <td>0</td>\n",
       "      <td>0</td>\n",
       "      <td>1</td>\n",
       "      <td>0</td>\n",
       "      <td>0</td>\n",
       "    </tr>\n",
       "    <tr>\n",
       "      <th>2</th>\n",
       "      <td>2187</td>\n",
       "      <td>respiratori obes chronic trach wa cultur wa wa...</td>\n",
       "      <td>186282</td>\n",
       "      <td>2134-06-24 23:30:00</td>\n",
       "      <td>2134-07-02 17:45:00</td>\n",
       "      <td>NaN</td>\n",
       "      <td>NaN</td>\n",
       "      <td>EMERGENCY</td>\n",
       "      <td>NaN</td>\n",
       "      <td>REHAB/DISTINCT PART HOSP</td>\n",
       "      <td>...</td>\n",
       "      <td>1</td>\n",
       "      <td>2</td>\n",
       "      <td>1</td>\n",
       "      <td>0</td>\n",
       "      <td>3</td>\n",
       "      <td>0</td>\n",
       "      <td>0</td>\n",
       "      <td>4</td>\n",
       "      <td>0</td>\n",
       "      <td>0</td>\n",
       "    </tr>\n",
       "    <tr>\n",
       "      <th>3</th>\n",
       "      <td>19213</td>\n",
       "      <td></td>\n",
       "      <td>140312</td>\n",
       "      <td>2202-11-02 12:32:00</td>\n",
       "      <td>2202-11-05 14:20:00</td>\n",
       "      <td>12.968056</td>\n",
       "      <td>2202-11-18 13:34:00</td>\n",
       "      <td>EMERGENCY</td>\n",
       "      <td>NaN</td>\n",
       "      <td>HOME</td>\n",
       "      <td>...</td>\n",
       "      <td>0</td>\n",
       "      <td>0</td>\n",
       "      <td>0</td>\n",
       "      <td>0</td>\n",
       "      <td>0</td>\n",
       "      <td>0</td>\n",
       "      <td>0</td>\n",
       "      <td>1</td>\n",
       "      <td>1</td>\n",
       "      <td>1</td>\n",
       "    </tr>\n",
       "    <tr>\n",
       "      <th>4</th>\n",
       "      <td>425</td>\n",
       "      <td>sp arrest parathyroidectomi surgeri right righ...</td>\n",
       "      <td>118058</td>\n",
       "      <td>2149-05-13 12:23:00</td>\n",
       "      <td>2149-05-26 20:00:00</td>\n",
       "      <td>NaN</td>\n",
       "      <td>NaN</td>\n",
       "      <td>EMERGENCY</td>\n",
       "      <td>NaN</td>\n",
       "      <td>HOME HEALTH CARE</td>\n",
       "      <td>...</td>\n",
       "      <td>0</td>\n",
       "      <td>0</td>\n",
       "      <td>0</td>\n",
       "      <td>0</td>\n",
       "      <td>0</td>\n",
       "      <td>0</td>\n",
       "      <td>0</td>\n",
       "      <td>2</td>\n",
       "      <td>1</td>\n",
       "      <td>0</td>\n",
       "    </tr>\n",
       "    <tr>\n",
       "      <th>5</th>\n",
       "      <td>3204</td>\n",
       "      <td></td>\n",
       "      <td>176077</td>\n",
       "      <td>2156-06-02 08:00:00</td>\n",
       "      <td>2156-06-08 13:30:00</td>\n",
       "      <td>NaN</td>\n",
       "      <td>NaN</td>\n",
       "      <td>ELECTIVE</td>\n",
       "      <td>NaN</td>\n",
       "      <td>HOME HEALTH CARE</td>\n",
       "      <td>...</td>\n",
       "      <td>1</td>\n",
       "      <td>0</td>\n",
       "      <td>0</td>\n",
       "      <td>0</td>\n",
       "      <td>0</td>\n",
       "      <td>0</td>\n",
       "      <td>0</td>\n",
       "      <td>0</td>\n",
       "      <td>0</td>\n",
       "      <td>0</td>\n",
       "    </tr>\n",
       "  </tbody>\n",
       "</table>\n",
       "<p>5 rows × 35 columns</p>\n",
       "</div>"
      ],
      "text/plain": [
       "   SUBJECT_ID                                               text  HADM_ID  \\\n",
       "1        3016  male one year ago wa alcohol male first unit g...   159142   \n",
       "2        2187  respiratori obes chronic trach wa cultur wa wa...   186282   \n",
       "3       19213                                                      140312   \n",
       "4         425  sp arrest parathyroidectomi surgeri right righ...   118058   \n",
       "5        3204                                                      176077   \n",
       "\n",
       "             ADMITTIME            DISCHTIME  DAYS_NEXT_ADMIT  \\\n",
       "1  2107-01-23 02:45:00  2107-01-26 14:00:00              NaN   \n",
       "2  2134-06-24 23:30:00  2134-07-02 17:45:00              NaN   \n",
       "3  2202-11-02 12:32:00  2202-11-05 14:20:00        12.968056   \n",
       "4  2149-05-13 12:23:00  2149-05-26 20:00:00              NaN   \n",
       "5  2156-06-02 08:00:00  2156-06-08 13:30:00              NaN   \n",
       "\n",
       "        NEXT_ADMITTIME ADMISSION_TYPE DEATHTIME        DISCHARGE_LOCATION  \\\n",
       "1                  NaN      EMERGENCY       NaN          HOME HEALTH CARE   \n",
       "2                  NaN      EMERGENCY       NaN  REHAB/DISTINCT PART HOSP   \n",
       "3  2202-11-18 13:34:00      EMERGENCY       NaN                      HOME   \n",
       "4                  NaN      EMERGENCY       NaN          HOME HEALTH CARE   \n",
       "5                  NaN       ELECTIVE       NaN          HOME HEALTH CARE   \n",
       "\n",
       "   ... mental misc muscular neoplasms nervous pregnancy prenatal  respiratory  \\\n",
       "1  ...      2    0        0         0       0         0        0            1   \n",
       "2  ...      1    2        1         0       3         0        0            4   \n",
       "3  ...      0    0        0         0       0         0        0            1   \n",
       "4  ...      0    0        0         0       0         0        0            2   \n",
       "5  ...      1    0        0         0       0         0        0            0   \n",
       "\n",
       "   skin  OUTPUT_LABEL  \n",
       "1     0             0  \n",
       "2     0             0  \n",
       "3     1             1  \n",
       "4     1             0  \n",
       "5     0             0  \n",
       "\n",
       "[5 rows x 35 columns]"
      ]
     },
     "execution_count": 23,
     "metadata": {},
     "output_type": "execute_result"
    }
   ],
   "source": [
    "df_train.head()"
   ]
  },
  {
   "cell_type": "code",
   "execution_count": 24,
   "metadata": {},
   "outputs": [],
   "source": [
    "#append the new var to the dataframe \n",
    "#test\n",
    "df_test.insert(loc=1,column='text',value=test_sw)"
   ]
  },
  {
   "cell_type": "markdown",
   "metadata": {},
   "source": [
    "## Treatment of datetime variable "
   ]
  },
  {
   "cell_type": "markdown",
   "metadata": {},
   "source": [
    "In this section I will treat variables in datetime format, in particular I will deal with: admit time, discharge time and date of birth of the patient. \n",
    "\n",
    "I suppose that the time passed in hospital is positive correlated with the probability of being re-hospitalize. More time a patient passed in hospital more probability this patient has to be re-hospitalized.  So I create a new numeric variable for the time passed in hospital during the last hospitalization. "
   ]
  },
  {
   "cell_type": "code",
   "execution_count": 25,
   "metadata": {},
   "outputs": [],
   "source": [
    "#create a new variable recovery for the amount of time passed in hospital. \n",
    "\n",
    "import datetime \n",
    "#train\n",
    "admittime_train = pd.to_datetime(df_train['ADMITTIME'])\n",
    "discharge_train =pd.to_datetime(df_train['DISCHTIME'])\n",
    "recovery_time_train=discharge_train-admittime_train\n",
    "#test\n",
    "admittime_test= pd.to_datetime(df_test['ADMITTIME'])\n",
    "discharge_test=pd.to_datetime(df_test['DISCHTIME'])\n",
    "recovery_time_test=discharge_test-admittime_test\n"
   ]
  },
  {
   "cell_type": "markdown",
   "metadata": {},
   "source": [
    "For the time passed in hospital I use only days. I am going to convert the format."
   ]
  },
  {
   "cell_type": "code",
   "execution_count": 26,
   "metadata": {},
   "outputs": [],
   "source": [
    "#change the format of the date into days \n",
    "recovery_time_train=recovery_time_train.dt.days\n",
    "recovery_time_test=recovery_time_test.dt.days\n"
   ]
  },
  {
   "cell_type": "code",
   "execution_count": 27,
   "metadata": {},
   "outputs": [
    {
     "data": {
      "text/plain": [
       "0      39\n",
       "1       6\n",
       "2       4\n",
       "3       6\n",
       "4       9\n",
       "       ..\n",
       "896     3\n",
       "897    11\n",
       "898    15\n",
       "899     6\n",
       "900     2\n",
       "Length: 811, dtype: int64"
      ]
     },
     "execution_count": 27,
     "metadata": {},
     "output_type": "execute_result"
    }
   ],
   "source": [
    "recovery_time_test"
   ]
  },
  {
   "cell_type": "code",
   "execution_count": 28,
   "metadata": {},
   "outputs": [
    {
     "data": {
      "text/plain": [
       "1        3\n",
       "2        7\n",
       "3        3\n",
       "4       13\n",
       "5        6\n",
       "        ..\n",
       "1995     4\n",
       "1996     8\n",
       "1997     8\n",
       "1998     5\n",
       "1999    11\n",
       "Length: 1748, dtype: int64"
      ]
     },
     "execution_count": 28,
     "metadata": {},
     "output_type": "execute_result"
    }
   ],
   "source": [
    "recovery_time_train"
   ]
  },
  {
   "cell_type": "markdown",
   "metadata": {},
   "source": [
    "For the variable date of birth I am going to consider only the year of birth, since this add enough variability."
   ]
  },
  {
   "cell_type": "code",
   "execution_count": 29,
   "metadata": {},
   "outputs": [],
   "source": [
    "#treatment of date of birth only take the year \n",
    "#train\n",
    "dateofbirth_train=pd.to_datetime(df_train['DOB'])\n",
    "#test\n",
    "dateofbirth_test=pd.to_datetime(df_test['DOB'])"
   ]
  },
  {
   "cell_type": "code",
   "execution_count": 30,
   "metadata": {},
   "outputs": [],
   "source": [
    "dateofbirth_train=dateofbirth_train.dt.year\n",
    "dateofbirth_test=dateofbirth_test.dt.year"
   ]
  },
  {
   "cell_type": "markdown",
   "metadata": {},
   "source": [
    "## Convertion of categorical variables in numeric ones \n"
   ]
  },
  {
   "cell_type": "markdown",
   "metadata": {},
   "source": [
    "In This section I convert categorical variables into numeric ones "
   ]
  },
  {
   "cell_type": "markdown",
   "metadata": {},
   "source": [
    "Label encoding is simply converting each value in a column to a number. This work for the gender variable, because it is a nominal variable."
   ]
  },
  {
   "cell_type": "code",
   "execution_count": 31,
   "metadata": {},
   "outputs": [],
   "source": [
    "#train\n",
    "df_train[\"GENDER\"] = df_train[\"GENDER\"].astype('category')\n",
    "df_train[\"gender_cat\"] = df_train[\"GENDER\"].cat.codes\n",
    "#test\n",
    "df_test[\"GENDER\"] = df_test[\"GENDER\"].astype('category')\n",
    "df_test[\"gender_cat\"] = df_test[\"GENDER\"].cat.codes\n"
   ]
  },
  {
   "cell_type": "markdown",
   "metadata": {},
   "source": [
    "Label encoding has the advantage that it is straightforward but it has the disadvantage that the numeric values can be “misinterpreted” by the algorithms. The distance between two possible value can not correspond to the real distance in life. For Example in the variable DISCHARGE_LOCATION home could be set =1, long term care hospital =2 and short term hospital =3 but indeed I know that short term hospital is more close to home than the long term.\n",
    "The alternative adopted, to deal with ordinal variables, is to creted a number of dummy variables (0/1) equal to the number of possible categories - 1 to avoid multicollinearity."
   ]
  },
  {
   "cell_type": "code",
   "execution_count": 32,
   "metadata": {},
   "outputs": [],
   "source": [
    "#generate dummy variables for each categorical variable. I am going to use a prefix in order to identify them better in the next step. \n",
    "#train\n",
    "df_train=pd.get_dummies(df_train, columns=[\"ADMISSION_TYPE\", \"INSURANCE\",\"MARITAL_STATUS\",\"ETHNICITY\",\"DISCHARGE_LOCATION\",], prefix=[\"ADM\", \"INS\",\"MAR\",\"ETH\",\"DIS\"])\n",
    "#test\n",
    "df_test=pd.get_dummies(df_test, columns=[\"ADMISSION_TYPE\", \"INSURANCE\",\"MARITAL_STATUS\",\"ETHNICITY\",\"DISCHARGE_LOCATION\",], prefix=[\"ADM\", \"INS\",\"MAR\",\"ETH\",\"DIS\"])\n",
    "\n",
    "\n",
    "\n",
    "\n"
   ]
  },
  {
   "cell_type": "code",
   "execution_count": 33,
   "metadata": {},
   "outputs": [
    {
     "data": {
      "text/html": [
       "<div>\n",
       "<style scoped>\n",
       "    .dataframe tbody tr th:only-of-type {\n",
       "        vertical-align: middle;\n",
       "    }\n",
       "\n",
       "    .dataframe tbody tr th {\n",
       "        vertical-align: top;\n",
       "    }\n",
       "\n",
       "    .dataframe thead th {\n",
       "        text-align: right;\n",
       "    }\n",
       "</style>\n",
       "<table border=\"1\" class=\"dataframe\">\n",
       "  <thead>\n",
       "    <tr style=\"text-align: right;\">\n",
       "      <th></th>\n",
       "      <th>SUBJECT_ID</th>\n",
       "      <th>text</th>\n",
       "      <th>HADM_ID</th>\n",
       "      <th>ADMITTIME</th>\n",
       "      <th>DISCHTIME</th>\n",
       "      <th>DAYS_NEXT_ADMIT</th>\n",
       "      <th>NEXT_ADMITTIME</th>\n",
       "      <th>DEATHTIME</th>\n",
       "      <th>DIAGNOSIS</th>\n",
       "      <th>TEXT</th>\n",
       "      <th>...</th>\n",
       "      <th>DIS_HOME WITH HOME IV PROVIDR</th>\n",
       "      <th>DIS_HOSPICE-HOME</th>\n",
       "      <th>DIS_HOSPICE-MEDICAL FACILITY</th>\n",
       "      <th>DIS_ICF</th>\n",
       "      <th>DIS_LEFT AGAINST MEDICAL ADVI</th>\n",
       "      <th>DIS_LONG TERM CARE HOSPITAL</th>\n",
       "      <th>DIS_OTHER FACILITY</th>\n",
       "      <th>DIS_REHAB/DISTINCT PART HOSP</th>\n",
       "      <th>DIS_SHORT TERM HOSPITAL</th>\n",
       "      <th>DIS_SNF</th>\n",
       "    </tr>\n",
       "  </thead>\n",
       "  <tbody>\n",
       "    <tr>\n",
       "      <th>1</th>\n",
       "      <td>3016</td>\n",
       "      <td>male one year ago wa alcohol male first unit g...</td>\n",
       "      <td>159142</td>\n",
       "      <td>2107-01-23 02:45:00</td>\n",
       "      <td>2107-01-26 14:00:00</td>\n",
       "      <td>NaN</td>\n",
       "      <td>NaN</td>\n",
       "      <td>NaN</td>\n",
       "      <td>GASTROINTESTINAL BLEED</td>\n",
       "      <td>Admission Date:  [**2107-1-23**]     Discharge...</td>\n",
       "      <td>...</td>\n",
       "      <td>0</td>\n",
       "      <td>0</td>\n",
       "      <td>0</td>\n",
       "      <td>0</td>\n",
       "      <td>0</td>\n",
       "      <td>0</td>\n",
       "      <td>0</td>\n",
       "      <td>0</td>\n",
       "      <td>0</td>\n",
       "      <td>0</td>\n",
       "    </tr>\n",
       "    <tr>\n",
       "      <th>2</th>\n",
       "      <td>2187</td>\n",
       "      <td>respiratori obes chronic trach wa cultur wa wa...</td>\n",
       "      <td>186282</td>\n",
       "      <td>2134-06-24 23:30:00</td>\n",
       "      <td>2134-07-02 17:45:00</td>\n",
       "      <td>NaN</td>\n",
       "      <td>NaN</td>\n",
       "      <td>NaN</td>\n",
       "      <td>PNEUMONIA</td>\n",
       "      <td>Admission Date:  [**2134-6-24**]              ...</td>\n",
       "      <td>...</td>\n",
       "      <td>0</td>\n",
       "      <td>0</td>\n",
       "      <td>0</td>\n",
       "      <td>0</td>\n",
       "      <td>0</td>\n",
       "      <td>0</td>\n",
       "      <td>0</td>\n",
       "      <td>1</td>\n",
       "      <td>0</td>\n",
       "      <td>0</td>\n",
       "    </tr>\n",
       "    <tr>\n",
       "      <th>3</th>\n",
       "      <td>19213</td>\n",
       "      <td></td>\n",
       "      <td>140312</td>\n",
       "      <td>2202-11-02 12:32:00</td>\n",
       "      <td>2202-11-05 14:20:00</td>\n",
       "      <td>12.968056</td>\n",
       "      <td>2202-11-18 13:34:00</td>\n",
       "      <td>NaN</td>\n",
       "      <td>INTRACTABLE NAUSEA,VOMITING</td>\n",
       "      <td>Admission Date:  [**2202-11-2**]     Discharge...</td>\n",
       "      <td>...</td>\n",
       "      <td>0</td>\n",
       "      <td>0</td>\n",
       "      <td>0</td>\n",
       "      <td>0</td>\n",
       "      <td>0</td>\n",
       "      <td>0</td>\n",
       "      <td>0</td>\n",
       "      <td>0</td>\n",
       "      <td>0</td>\n",
       "      <td>0</td>\n",
       "    </tr>\n",
       "    <tr>\n",
       "      <th>4</th>\n",
       "      <td>425</td>\n",
       "      <td>sp arrest parathyroidectomi surgeri right righ...</td>\n",
       "      <td>118058</td>\n",
       "      <td>2149-05-13 12:23:00</td>\n",
       "      <td>2149-05-26 20:00:00</td>\n",
       "      <td>NaN</td>\n",
       "      <td>NaN</td>\n",
       "      <td>NaN</td>\n",
       "      <td>HYPERPARATHYROIDISM</td>\n",
       "      <td>Admission Date:  [**2149-5-13**]              ...</td>\n",
       "      <td>...</td>\n",
       "      <td>0</td>\n",
       "      <td>0</td>\n",
       "      <td>0</td>\n",
       "      <td>0</td>\n",
       "      <td>0</td>\n",
       "      <td>0</td>\n",
       "      <td>0</td>\n",
       "      <td>0</td>\n",
       "      <td>0</td>\n",
       "      <td>0</td>\n",
       "    </tr>\n",
       "    <tr>\n",
       "      <th>5</th>\n",
       "      <td>3204</td>\n",
       "      <td></td>\n",
       "      <td>176077</td>\n",
       "      <td>2156-06-02 08:00:00</td>\n",
       "      <td>2156-06-08 13:30:00</td>\n",
       "      <td>NaN</td>\n",
       "      <td>NaN</td>\n",
       "      <td>NaN</td>\n",
       "      <td>CAD\\CORONARY ARTERY BYPASS GRAFT/SDA</td>\n",
       "      <td>Name:  [**Known lastname 10188**], [**Known fi...</td>\n",
       "      <td>...</td>\n",
       "      <td>0</td>\n",
       "      <td>0</td>\n",
       "      <td>0</td>\n",
       "      <td>0</td>\n",
       "      <td>0</td>\n",
       "      <td>0</td>\n",
       "      <td>0</td>\n",
       "      <td>0</td>\n",
       "      <td>0</td>\n",
       "      <td>0</td>\n",
       "    </tr>\n",
       "    <tr>\n",
       "      <th>...</th>\n",
       "      <td>...</td>\n",
       "      <td>...</td>\n",
       "      <td>...</td>\n",
       "      <td>...</td>\n",
       "      <td>...</td>\n",
       "      <td>...</td>\n",
       "      <td>...</td>\n",
       "      <td>...</td>\n",
       "      <td>...</td>\n",
       "      <td>...</td>\n",
       "      <td>...</td>\n",
       "      <td>...</td>\n",
       "      <td>...</td>\n",
       "      <td>...</td>\n",
       "      <td>...</td>\n",
       "      <td>...</td>\n",
       "      <td>...</td>\n",
       "      <td>...</td>\n",
       "      <td>...</td>\n",
       "      <td>...</td>\n",
       "      <td>...</td>\n",
       "    </tr>\n",
       "    <tr>\n",
       "      <th>1995</th>\n",
       "      <td>808</td>\n",
       "      <td>first pericardi right pcp first cardiac right ...</td>\n",
       "      <td>139077</td>\n",
       "      <td>2181-05-11 16:57:00</td>\n",
       "      <td>2181-05-16 11:58:00</td>\n",
       "      <td>13.701389</td>\n",
       "      <td>2181-05-30 04:48:00</td>\n",
       "      <td>NaN</td>\n",
       "      <td>CORONARY ARTERY DISEASE</td>\n",
       "      <td>Admission Date:  [**2181-5-11**]              ...</td>\n",
       "      <td>...</td>\n",
       "      <td>0</td>\n",
       "      <td>0</td>\n",
       "      <td>0</td>\n",
       "      <td>0</td>\n",
       "      <td>0</td>\n",
       "      <td>0</td>\n",
       "      <td>0</td>\n",
       "      <td>0</td>\n",
       "      <td>0</td>\n",
       "      <td>0</td>\n",
       "    </tr>\n",
       "    <tr>\n",
       "      <th>1996</th>\n",
       "      <td>698</td>\n",
       "      <td>diastol heart failur sever sever hospital air ...</td>\n",
       "      <td>171990</td>\n",
       "      <td>2167-12-23 03:24:00</td>\n",
       "      <td>2167-12-31 14:08:00</td>\n",
       "      <td>NaN</td>\n",
       "      <td>NaN</td>\n",
       "      <td>NaN</td>\n",
       "      <td>CONGESTIVE HEART FAILURE</td>\n",
       "      <td>Admission Date:  [**2167-12-23**]             ...</td>\n",
       "      <td>...</td>\n",
       "      <td>0</td>\n",
       "      <td>0</td>\n",
       "      <td>0</td>\n",
       "      <td>0</td>\n",
       "      <td>0</td>\n",
       "      <td>0</td>\n",
       "      <td>0</td>\n",
       "      <td>0</td>\n",
       "      <td>0</td>\n",
       "      <td>1</td>\n",
       "    </tr>\n",
       "    <tr>\n",
       "      <th>1997</th>\n",
       "      <td>58821</td>\n",
       "      <td>first left lower extrem hematoma first last pa...</td>\n",
       "      <td>179166</td>\n",
       "      <td>2176-02-06 21:05:00</td>\n",
       "      <td>2176-02-15 13:39:00</td>\n",
       "      <td>7.473611</td>\n",
       "      <td>2176-02-23 01:01:00</td>\n",
       "      <td>NaN</td>\n",
       "      <td>PULSELESS FOOT;TELEMETRY</td>\n",
       "      <td>Admission Date:  [**2176-2-6**]              D...</td>\n",
       "      <td>...</td>\n",
       "      <td>0</td>\n",
       "      <td>0</td>\n",
       "      <td>0</td>\n",
       "      <td>0</td>\n",
       "      <td>0</td>\n",
       "      <td>0</td>\n",
       "      <td>0</td>\n",
       "      <td>0</td>\n",
       "      <td>0</td>\n",
       "      <td>1</td>\n",
       "    </tr>\n",
       "    <tr>\n",
       "      <th>1998</th>\n",
       "      <td>1308</td>\n",
       "      <td>chest pain copd osh acut pain last ecg lbbb ck...</td>\n",
       "      <td>127034</td>\n",
       "      <td>2134-02-21 15:52:00</td>\n",
       "      <td>2134-02-27 14:09:00</td>\n",
       "      <td>NaN</td>\n",
       "      <td>NaN</td>\n",
       "      <td>NaN</td>\n",
       "      <td>SOB</td>\n",
       "      <td>Admission Date:  [**2134-2-21**]              ...</td>\n",
       "      <td>...</td>\n",
       "      <td>0</td>\n",
       "      <td>0</td>\n",
       "      <td>0</td>\n",
       "      <td>0</td>\n",
       "      <td>0</td>\n",
       "      <td>0</td>\n",
       "      <td>0</td>\n",
       "      <td>0</td>\n",
       "      <td>0</td>\n",
       "      <td>1</td>\n",
       "    </tr>\n",
       "    <tr>\n",
       "      <th>1999</th>\n",
       "      <td>13183</td>\n",
       "      <td>first esophag esophag pt hi wa hi wa sever pt ...</td>\n",
       "      <td>115178</td>\n",
       "      <td>2115-07-20 19:43:00</td>\n",
       "      <td>2115-08-01 17:30:00</td>\n",
       "      <td>23.966667</td>\n",
       "      <td>2115-08-25 16:42:00</td>\n",
       "      <td>NaN</td>\n",
       "      <td>UPPER G.I. BLEED</td>\n",
       "      <td>Admission Date:  [**2115-7-20**]              ...</td>\n",
       "      <td>...</td>\n",
       "      <td>0</td>\n",
       "      <td>0</td>\n",
       "      <td>0</td>\n",
       "      <td>0</td>\n",
       "      <td>0</td>\n",
       "      <td>0</td>\n",
       "      <td>0</td>\n",
       "      <td>0</td>\n",
       "      <td>0</td>\n",
       "      <td>0</td>\n",
       "    </tr>\n",
       "  </tbody>\n",
       "</table>\n",
       "<p>1748 rows × 64 columns</p>\n",
       "</div>"
      ],
      "text/plain": [
       "      SUBJECT_ID                                               text  HADM_ID  \\\n",
       "1           3016  male one year ago wa alcohol male first unit g...   159142   \n",
       "2           2187  respiratori obes chronic trach wa cultur wa wa...   186282   \n",
       "3          19213                                                      140312   \n",
       "4            425  sp arrest parathyroidectomi surgeri right righ...   118058   \n",
       "5           3204                                                      176077   \n",
       "...          ...                                                ...      ...   \n",
       "1995         808  first pericardi right pcp first cardiac right ...   139077   \n",
       "1996         698  diastol heart failur sever sever hospital air ...   171990   \n",
       "1997       58821  first left lower extrem hematoma first last pa...   179166   \n",
       "1998        1308  chest pain copd osh acut pain last ecg lbbb ck...   127034   \n",
       "1999       13183  first esophag esophag pt hi wa hi wa sever pt ...   115178   \n",
       "\n",
       "                ADMITTIME            DISCHTIME  DAYS_NEXT_ADMIT  \\\n",
       "1     2107-01-23 02:45:00  2107-01-26 14:00:00              NaN   \n",
       "2     2134-06-24 23:30:00  2134-07-02 17:45:00              NaN   \n",
       "3     2202-11-02 12:32:00  2202-11-05 14:20:00        12.968056   \n",
       "4     2149-05-13 12:23:00  2149-05-26 20:00:00              NaN   \n",
       "5     2156-06-02 08:00:00  2156-06-08 13:30:00              NaN   \n",
       "...                   ...                  ...              ...   \n",
       "1995  2181-05-11 16:57:00  2181-05-16 11:58:00        13.701389   \n",
       "1996  2167-12-23 03:24:00  2167-12-31 14:08:00              NaN   \n",
       "1997  2176-02-06 21:05:00  2176-02-15 13:39:00         7.473611   \n",
       "1998  2134-02-21 15:52:00  2134-02-27 14:09:00              NaN   \n",
       "1999  2115-07-20 19:43:00  2115-08-01 17:30:00        23.966667   \n",
       "\n",
       "           NEXT_ADMITTIME DEATHTIME                              DIAGNOSIS  \\\n",
       "1                     NaN       NaN                 GASTROINTESTINAL BLEED   \n",
       "2                     NaN       NaN                              PNEUMONIA   \n",
       "3     2202-11-18 13:34:00       NaN            INTRACTABLE NAUSEA,VOMITING   \n",
       "4                     NaN       NaN                    HYPERPARATHYROIDISM   \n",
       "5                     NaN       NaN   CAD\\CORONARY ARTERY BYPASS GRAFT/SDA   \n",
       "...                   ...       ...                                    ...   \n",
       "1995  2181-05-30 04:48:00       NaN                CORONARY ARTERY DISEASE   \n",
       "1996                  NaN       NaN               CONGESTIVE HEART FAILURE   \n",
       "1997  2176-02-23 01:01:00       NaN               PULSELESS FOOT;TELEMETRY   \n",
       "1998                  NaN       NaN                                    SOB   \n",
       "1999  2115-08-25 16:42:00       NaN                       UPPER G.I. BLEED   \n",
       "\n",
       "                                                   TEXT  ...  \\\n",
       "1     Admission Date:  [**2107-1-23**]     Discharge...  ...   \n",
       "2     Admission Date:  [**2134-6-24**]              ...  ...   \n",
       "3     Admission Date:  [**2202-11-2**]     Discharge...  ...   \n",
       "4     Admission Date:  [**2149-5-13**]              ...  ...   \n",
       "5     Name:  [**Known lastname 10188**], [**Known fi...  ...   \n",
       "...                                                 ...  ...   \n",
       "1995  Admission Date:  [**2181-5-11**]              ...  ...   \n",
       "1996  Admission Date:  [**2167-12-23**]             ...  ...   \n",
       "1997  Admission Date:  [**2176-2-6**]              D...  ...   \n",
       "1998  Admission Date:  [**2134-2-21**]              ...  ...   \n",
       "1999  Admission Date:  [**2115-7-20**]              ...  ...   \n",
       "\n",
       "     DIS_HOME WITH HOME IV PROVIDR DIS_HOSPICE-HOME  \\\n",
       "1                                0                0   \n",
       "2                                0                0   \n",
       "3                                0                0   \n",
       "4                                0                0   \n",
       "5                                0                0   \n",
       "...                            ...              ...   \n",
       "1995                             0                0   \n",
       "1996                             0                0   \n",
       "1997                             0                0   \n",
       "1998                             0                0   \n",
       "1999                             0                0   \n",
       "\n",
       "      DIS_HOSPICE-MEDICAL FACILITY  DIS_ICF  DIS_LEFT AGAINST MEDICAL ADVI  \\\n",
       "1                                0        0                              0   \n",
       "2                                0        0                              0   \n",
       "3                                0        0                              0   \n",
       "4                                0        0                              0   \n",
       "5                                0        0                              0   \n",
       "...                            ...      ...                            ...   \n",
       "1995                             0        0                              0   \n",
       "1996                             0        0                              0   \n",
       "1997                             0        0                              0   \n",
       "1998                             0        0                              0   \n",
       "1999                             0        0                              0   \n",
       "\n",
       "      DIS_LONG TERM CARE HOSPITAL  DIS_OTHER FACILITY  \\\n",
       "1                               0                   0   \n",
       "2                               0                   0   \n",
       "3                               0                   0   \n",
       "4                               0                   0   \n",
       "5                               0                   0   \n",
       "...                           ...                 ...   \n",
       "1995                            0                   0   \n",
       "1996                            0                   0   \n",
       "1997                            0                   0   \n",
       "1998                            0                   0   \n",
       "1999                            0                   0   \n",
       "\n",
       "      DIS_REHAB/DISTINCT PART HOSP  DIS_SHORT TERM HOSPITAL  DIS_SNF  \n",
       "1                                0                        0        0  \n",
       "2                                1                        0        0  \n",
       "3                                0                        0        0  \n",
       "4                                0                        0        0  \n",
       "5                                0                        0        0  \n",
       "...                            ...                      ...      ...  \n",
       "1995                             0                        0        0  \n",
       "1996                             0                        0        1  \n",
       "1997                             0                        0        1  \n",
       "1998                             0                        0        1  \n",
       "1999                             0                        0        0  \n",
       "\n",
       "[1748 rows x 64 columns]"
      ]
     },
     "execution_count": 33,
     "metadata": {},
     "output_type": "execute_result"
    }
   ],
   "source": [
    "df_train"
   ]
  },
  {
   "cell_type": "markdown",
   "metadata": {},
   "source": [
    "Drop one categories from each original categorical variable to avoid multicollinearity. Doesn't matter which one, in any case the remaining dummies preserve the information."
   ]
  },
  {
   "cell_type": "code",
   "execution_count": 34,
   "metadata": {},
   "outputs": [],
   "source": [
    "\n",
    "#train \n",
    "df_train=df_train.drop(columns=[\"ADM_URGENT\",\"INS_Private\",\"MAR_SEPARATED\",\"ETH_ASIAN\",\"DIS_HOME\"])\n",
    "#test\n",
    "df_test=df_test.drop(columns=[\"ADM_URGENT\",\"INS_Private\",\"MAR_SEPARATED\",\"ETH_ASIAN\",\"DIS_HOME\"])"
   ]
  },
  {
   "cell_type": "code",
   "execution_count": 35,
   "metadata": {},
   "outputs": [
    {
     "data": {
      "text/plain": [
       "Index(['SUBJECT_ID', 'text', 'HADM_ID', 'ADMITTIME', 'DISCHTIME',\n",
       "       'DAYS_NEXT_ADMIT', 'NEXT_ADMITTIME', 'DEATHTIME', 'DIAGNOSIS', 'TEXT',\n",
       "       'GENDER', 'DOB', 'blood', 'circulatory', 'congenital', 'digestive',\n",
       "       'endocrine', 'genitourinary', 'infectious', 'injury', 'mental', 'misc',\n",
       "       'muscular', 'neoplasms', 'nervous', 'pregnancy', 'prenatal',\n",
       "       'respiratory', 'skin', 'OUTPUT_LABEL', 'gender_cat', 'ADM_ELECTIVE',\n",
       "       'ADM_EMERGENCY', 'INS_Government', 'INS_Medicaid', 'INS_Medicare',\n",
       "       'INS_Self Pay', 'MAR_DIVORCED', 'MAR_MARRIED', 'MAR_SINGLE',\n",
       "       'MAR_UNKNOWN (DEFAULT)', 'MAR_WIDOWED', 'ETH_BLACK/AFRICAN AMERICAN',\n",
       "       'ETH_HISPANIC/LATINO', 'ETH_OTHER/UNKNOWN', 'ETH_WHITE',\n",
       "       'DIS_DISC-TRAN CANCER/CHLDRN H', 'DIS_DISCH-TRAN TO PSYCH HOSP',\n",
       "       'DIS_HOME HEALTH CARE', 'DIS_HOME WITH HOME IV PROVIDR',\n",
       "       'DIS_HOSPICE-HOME', 'DIS_HOSPICE-MEDICAL FACILITY', 'DIS_ICF',\n",
       "       'DIS_LEFT AGAINST MEDICAL ADVI', 'DIS_LONG TERM CARE HOSPITAL',\n",
       "       'DIS_OTHER FACILITY', 'DIS_REHAB/DISTINCT PART HOSP',\n",
       "       'DIS_SHORT TERM HOSPITAL', 'DIS_SNF'],\n",
       "      dtype='object')"
      ]
     },
     "execution_count": 35,
     "metadata": {},
     "output_type": "execute_result"
    }
   ],
   "source": [
    "#print all variables that i have right now\n",
    "df_train.columns"
   ]
  },
  {
   "cell_type": "code",
   "execution_count": 36,
   "metadata": {},
   "outputs": [
    {
     "data": {
      "text/plain": [
       "((1748, 59), (811, 59))"
      ]
     },
     "execution_count": 36,
     "metadata": {},
     "output_type": "execute_result"
    }
   ],
   "source": [
    "#check if the number of variable in the train is equal in the set. \n",
    "df_train.shape, df_test.shape "
   ]
  },
  {
   "cell_type": "markdown",
   "metadata": {},
   "source": [
    "## Creation of the dataset for the models   "
   ]
  },
  {
   "cell_type": "markdown",
   "metadata": {},
   "source": [
    "In this section I sum up all variable previously created and compute the last part of pre-treatment. I will select all new dummy variables instead of the categorical ones, the normalized text variable and of course the numeric variables already present in the initial dataset. "
   ]
  },
  {
   "cell_type": "code",
   "execution_count": 37,
   "metadata": {},
   "outputs": [],
   "source": [
    "#define a numeric dataset \n",
    "#not select deathtime column because it is an entire column of null \n",
    "\n",
    "#train\n",
    "df_train1=df_train[['gender_cat', 'ADM_EMERGENCY','ADM_ELECTIVE', 'ETH_WHITE','ETH_OTHER/UNKNOWN','ETH_BLACK/AFRICAN AMERICAN','ETH_HISPANIC/LATINO', 'INS_Medicare','INS_Medicaid','INS_Government','INS_Self Pay', 'MAR_MARRIED','MAR_SINGLE','MAR_WIDOWED','MAR_DIVORCED','DIS_HOME HEALTH CARE','DIS_SNF','DIS_REHAB/DISTINCT PART HOSP','DIS_LONG TERM CARE HOSPITAL','DIS_DISC-TRAN CANCER/CHLDRN H','DIS_LEFT AGAINST MEDICAL ADVI','DIS_SHORT TERM HOSPITAL','DIS_HOME WITH HOME IV PROVIDR','DIS_DISCH-TRAN TO PSYCH HOSP','DIS_ICF','DIS_HOSPICE-MEDICAL FACILITY','DIS_HOSPICE-HOME', 'blood', 'circulatory', 'congenital', 'digestive', 'endocrine', 'genitourinary', 'infectious', 'injury', 'mental', 'misc', 'muscular', 'neoplasms', 'nervous', 'pregnancy', 'prenatal', 'respiratory', 'skin','OUTPUT_LABEL','text']]\n",
    "df_train1.insert(loc=1,column='recovery_day',value=recovery_time_train)\n",
    "df_train1.insert(loc=2,column='dob',value=dateofbirth_train)\n",
    "#test\n",
    "df_test1=df_test[['gender_cat', 'ADM_EMERGENCY','ADM_ELECTIVE', 'ETH_WHITE','ETH_OTHER/UNKNOWN','ETH_BLACK/AFRICAN AMERICAN','ETH_HISPANIC/LATINO', 'INS_Medicare','INS_Medicaid','INS_Government','INS_Self Pay', 'MAR_MARRIED','MAR_SINGLE','MAR_WIDOWED','MAR_DIVORCED','DIS_HOME HEALTH CARE','DIS_SNF','DIS_REHAB/DISTINCT PART HOSP','DIS_LONG TERM CARE HOSPITAL','DIS_DISC-TRAN CANCER/CHLDRN H','DIS_LEFT AGAINST MEDICAL ADVI','DIS_SHORT TERM HOSPITAL','DIS_HOME WITH HOME IV PROVIDR','DIS_DISCH-TRAN TO PSYCH HOSP','DIS_ICF','DIS_HOSPICE-MEDICAL FACILITY','DIS_HOSPICE-HOME', 'blood', 'circulatory', 'congenital', 'digestive', 'endocrine', 'genitourinary', 'infectious', 'injury', 'mental', 'misc', 'muscular', 'neoplasms', 'nervous', 'pregnancy', 'prenatal', 'respiratory', 'skin','OUTPUT_LABEL','text']]\n",
    "df_test1.insert(loc=1,column='recovery_day',value=recovery_time_test)\n",
    "df_test1.insert(loc=2,column='dob',value=dateofbirth_test)"
   ]
  },
  {
   "cell_type": "markdown",
   "metadata": {},
   "source": [
    "look at Nan values for the second time"
   ]
  },
  {
   "cell_type": "code",
   "execution_count": 38,
   "metadata": {},
   "outputs": [
    {
     "name": "stdout",
     "output_type": "stream",
     "text": [
      "<class 'pandas.core.frame.DataFrame'>\n",
      "Int64Index: 1748 entries, 1 to 1999\n",
      "Data columns (total 48 columns):\n",
      " #   Column                         Non-Null Count  Dtype \n",
      "---  ------                         --------------  ----- \n",
      " 0   gender_cat                     1748 non-null   int8  \n",
      " 1   recovery_day                   1748 non-null   int64 \n",
      " 2   dob                            1748 non-null   int64 \n",
      " 3   ADM_EMERGENCY                  1748 non-null   uint8 \n",
      " 4   ADM_ELECTIVE                   1748 non-null   uint8 \n",
      " 5   ETH_WHITE                      1748 non-null   uint8 \n",
      " 6   ETH_OTHER/UNKNOWN              1748 non-null   uint8 \n",
      " 7   ETH_BLACK/AFRICAN AMERICAN     1748 non-null   uint8 \n",
      " 8   ETH_HISPANIC/LATINO            1748 non-null   uint8 \n",
      " 9   INS_Medicare                   1748 non-null   uint8 \n",
      " 10  INS_Medicaid                   1748 non-null   uint8 \n",
      " 11  INS_Government                 1748 non-null   uint8 \n",
      " 12  INS_Self Pay                   1748 non-null   uint8 \n",
      " 13  MAR_MARRIED                    1748 non-null   uint8 \n",
      " 14  MAR_SINGLE                     1748 non-null   uint8 \n",
      " 15  MAR_WIDOWED                    1748 non-null   uint8 \n",
      " 16  MAR_DIVORCED                   1748 non-null   uint8 \n",
      " 17  DIS_HOME HEALTH CARE           1748 non-null   uint8 \n",
      " 18  DIS_SNF                        1748 non-null   uint8 \n",
      " 19  DIS_REHAB/DISTINCT PART HOSP   1748 non-null   uint8 \n",
      " 20  DIS_LONG TERM CARE HOSPITAL    1748 non-null   uint8 \n",
      " 21  DIS_DISC-TRAN CANCER/CHLDRN H  1748 non-null   uint8 \n",
      " 22  DIS_LEFT AGAINST MEDICAL ADVI  1748 non-null   uint8 \n",
      " 23  DIS_SHORT TERM HOSPITAL        1748 non-null   uint8 \n",
      " 24  DIS_HOME WITH HOME IV PROVIDR  1748 non-null   uint8 \n",
      " 25  DIS_DISCH-TRAN TO PSYCH HOSP   1748 non-null   uint8 \n",
      " 26  DIS_ICF                        1748 non-null   uint8 \n",
      " 27  DIS_HOSPICE-MEDICAL FACILITY   1748 non-null   uint8 \n",
      " 28  DIS_HOSPICE-HOME               1748 non-null   uint8 \n",
      " 29  blood                          1748 non-null   int64 \n",
      " 30  circulatory                    1748 non-null   int64 \n",
      " 31  congenital                     1748 non-null   int64 \n",
      " 32  digestive                      1748 non-null   int64 \n",
      " 33  endocrine                      1748 non-null   int64 \n",
      " 34  genitourinary                  1748 non-null   int64 \n",
      " 35  infectious                     1748 non-null   int64 \n",
      " 36  injury                         1748 non-null   int64 \n",
      " 37  mental                         1748 non-null   int64 \n",
      " 38  misc                           1748 non-null   int64 \n",
      " 39  muscular                       1748 non-null   int64 \n",
      " 40  neoplasms                      1748 non-null   int64 \n",
      " 41  nervous                        1748 non-null   int64 \n",
      " 42  pregnancy                      1748 non-null   int64 \n",
      " 43  prenatal                       1748 non-null   int64 \n",
      " 44  respiratory                    1748 non-null   int64 \n",
      " 45  skin                           1748 non-null   int64 \n",
      " 46  OUTPUT_LABEL                   1748 non-null   int64 \n",
      " 47  text                           1748 non-null   object\n",
      "dtypes: int64(20), int8(1), object(1), uint8(26)\n",
      "memory usage: 346.5+ KB\n"
     ]
    }
   ],
   "source": [
    "df_train1.info()"
   ]
  },
  {
   "cell_type": "code",
   "execution_count": 39,
   "metadata": {},
   "outputs": [
    {
     "name": "stdout",
     "output_type": "stream",
     "text": [
      "<class 'pandas.core.frame.DataFrame'>\n",
      "Int64Index: 811 entries, 0 to 900\n",
      "Data columns (total 48 columns):\n",
      " #   Column                         Non-Null Count  Dtype \n",
      "---  ------                         --------------  ----- \n",
      " 0   gender_cat                     811 non-null    int8  \n",
      " 1   recovery_day                   811 non-null    int64 \n",
      " 2   dob                            811 non-null    int64 \n",
      " 3   ADM_EMERGENCY                  811 non-null    uint8 \n",
      " 4   ADM_ELECTIVE                   811 non-null    uint8 \n",
      " 5   ETH_WHITE                      811 non-null    uint8 \n",
      " 6   ETH_OTHER/UNKNOWN              811 non-null    uint8 \n",
      " 7   ETH_BLACK/AFRICAN AMERICAN     811 non-null    uint8 \n",
      " 8   ETH_HISPANIC/LATINO            811 non-null    uint8 \n",
      " 9   INS_Medicare                   811 non-null    uint8 \n",
      " 10  INS_Medicaid                   811 non-null    uint8 \n",
      " 11  INS_Government                 811 non-null    uint8 \n",
      " 12  INS_Self Pay                   811 non-null    uint8 \n",
      " 13  MAR_MARRIED                    811 non-null    uint8 \n",
      " 14  MAR_SINGLE                     811 non-null    uint8 \n",
      " 15  MAR_WIDOWED                    811 non-null    uint8 \n",
      " 16  MAR_DIVORCED                   811 non-null    uint8 \n",
      " 17  DIS_HOME HEALTH CARE           811 non-null    uint8 \n",
      " 18  DIS_SNF                        811 non-null    uint8 \n",
      " 19  DIS_REHAB/DISTINCT PART HOSP   811 non-null    uint8 \n",
      " 20  DIS_LONG TERM CARE HOSPITAL    811 non-null    uint8 \n",
      " 21  DIS_DISC-TRAN CANCER/CHLDRN H  811 non-null    uint8 \n",
      " 22  DIS_LEFT AGAINST MEDICAL ADVI  811 non-null    uint8 \n",
      " 23  DIS_SHORT TERM HOSPITAL        811 non-null    uint8 \n",
      " 24  DIS_HOME WITH HOME IV PROVIDR  811 non-null    uint8 \n",
      " 25  DIS_DISCH-TRAN TO PSYCH HOSP   811 non-null    uint8 \n",
      " 26  DIS_ICF                        811 non-null    uint8 \n",
      " 27  DIS_HOSPICE-MEDICAL FACILITY   811 non-null    uint8 \n",
      " 28  DIS_HOSPICE-HOME               811 non-null    uint8 \n",
      " 29  blood                          811 non-null    int64 \n",
      " 30  circulatory                    811 non-null    int64 \n",
      " 31  congenital                     811 non-null    int64 \n",
      " 32  digestive                      811 non-null    int64 \n",
      " 33  endocrine                      811 non-null    int64 \n",
      " 34  genitourinary                  811 non-null    int64 \n",
      " 35  infectious                     811 non-null    int64 \n",
      " 36  injury                         811 non-null    int64 \n",
      " 37  mental                         811 non-null    int64 \n",
      " 38  misc                           811 non-null    int64 \n",
      " 39  muscular                       811 non-null    int64 \n",
      " 40  neoplasms                      811 non-null    int64 \n",
      " 41  nervous                        811 non-null    int64 \n",
      " 42  pregnancy                      811 non-null    int64 \n",
      " 43  prenatal                       811 non-null    int64 \n",
      " 44  respiratory                    811 non-null    int64 \n",
      " 45  skin                           811 non-null    int64 \n",
      " 46  OUTPUT_LABEL                   811 non-null    int64 \n",
      " 47  text                           811 non-null    object\n",
      "dtypes: int64(20), int8(1), object(1), uint8(26)\n",
      "memory usage: 160.8+ KB\n"
     ]
    }
   ],
   "source": [
    "df_test1.info()"
   ]
  },
  {
   "cell_type": "code",
   "execution_count": 40,
   "metadata": {},
   "outputs": [
    {
     "data": {
      "text/plain": [
       "((1748, 48), (811, 48))"
      ]
     },
     "execution_count": 40,
     "metadata": {},
     "output_type": "execute_result"
    }
   ],
   "source": [
    "df_train1.shape,df_test1.shape"
   ]
  },
  {
   "cell_type": "markdown",
   "metadata": {},
   "source": [
    "No Nan values are present in both dataset. "
   ]
  },
  {
   "cell_type": "markdown",
   "metadata": {},
   "source": [
    "## Definition of the target  \n"
   ]
  },
  {
   "cell_type": "markdown",
   "metadata": {},
   "source": [
    "OUTPUT_LABEL summarize the re-hospitalization only with 2 possible values: yes or no. \n",
    "\n",
    "Why this choice?\n",
    "\n",
    "- I deleted observations of death patients. So DEATHTIME can not be used as target. \n",
    "\n",
    "- the two variables DAYS_NEXT_ADMIT and NEXT_ADMITTIME contain a lot of Nan values since not all patient are re-hospitalized. How the model interpret Nan values? Nan values indicate a re-hospitalization in a short or long period? And how far in the future? A carefully pre-process is needed for those variables. It will be done in the Deep learning project. \n"
   ]
  },
  {
   "cell_type": "code",
   "execution_count": 41,
   "metadata": {},
   "outputs": [],
   "source": [
    "#define the target \n",
    "#RE-HOSPITALIZATION = YES/NO \n",
    "\n",
    "y_train=df_train1['OUTPUT_LABEL']\n",
    "y_test=df_test1['OUTPUT_LABEL']"
   ]
  },
  {
   "cell_type": "code",
   "execution_count": 42,
   "metadata": {},
   "outputs": [
    {
     "data": {
      "text/plain": [
       "((811,), (1748,))"
      ]
     },
     "execution_count": 42,
     "metadata": {},
     "output_type": "execute_result"
    }
   ],
   "source": [
    "y_test.shape, y_train.shape"
   ]
  },
  {
   "cell_type": "markdown",
   "metadata": {},
   "source": [
    "Before Implementing the models is useful to have a look at the dataset in order to check if it is balanced. \n",
    "Because this can afflict the models and of course the metrics used to evaluate them. "
   ]
  },
  {
   "cell_type": "code",
   "execution_count": 43,
   "metadata": {},
   "outputs": [],
   "source": [
    "ratio_train = np.sum(y_train==1)/len(y_train)"
   ]
  },
  {
   "cell_type": "code",
   "execution_count": 44,
   "metadata": {},
   "outputs": [
    {
     "data": {
      "text/plain": [
       "0.568649885583524"
      ]
     },
     "execution_count": 44,
     "metadata": {},
     "output_type": "execute_result"
    }
   ],
   "source": [
    "ratio_train"
   ]
  },
  {
   "cell_type": "code",
   "execution_count": 45,
   "metadata": {},
   "outputs": [],
   "source": [
    "ratio_test= np.sum(y_test==1)/len(y_test)"
   ]
  },
  {
   "cell_type": "code",
   "execution_count": 46,
   "metadata": {},
   "outputs": [
    {
     "data": {
      "text/plain": [
       "0.5536374845869297"
      ]
     },
     "execution_count": 46,
     "metadata": {},
     "output_type": "execute_result"
    }
   ],
   "source": [
    "ratio_test"
   ]
  },
  {
   "cell_type": "markdown",
   "metadata": {},
   "source": [
    "Fortunately the train and test sets seems to be balanced. The ratio of patients been re-hospitalized among all patients is around 50%."
   ]
  },
  {
   "cell_type": "markdown",
   "metadata": {},
   "source": [
    "Before the treatment of normalized text, I will put together all numeric features in order to manage them better when I will put together features coming from numeric and text. "
   ]
  },
  {
   "cell_type": "code",
   "execution_count": 47,
   "metadata": {},
   "outputs": [],
   "source": [
    "# selection of the  numeric variable train and test set  \n",
    "X_train=df_train1[['gender_cat', 'ADM_EMERGENCY','ADM_ELECTIVE', 'ETH_WHITE','ETH_OTHER/UNKNOWN','ETH_BLACK/AFRICAN AMERICAN','ETH_HISPANIC/LATINO', 'INS_Medicare','INS_Medicaid','INS_Government','INS_Self Pay', 'MAR_MARRIED','MAR_SINGLE','MAR_WIDOWED','MAR_DIVORCED','DIS_HOME HEALTH CARE','DIS_SNF','DIS_REHAB/DISTINCT PART HOSP','DIS_LONG TERM CARE HOSPITAL','DIS_DISC-TRAN CANCER/CHLDRN H','DIS_LEFT AGAINST MEDICAL ADVI','DIS_SHORT TERM HOSPITAL','DIS_HOME WITH HOME IV PROVIDR','DIS_DISCH-TRAN TO PSYCH HOSP','DIS_ICF','DIS_HOSPICE-MEDICAL FACILITY','DIS_HOSPICE-HOME', 'blood', 'circulatory', 'congenital', 'digestive', 'endocrine', 'genitourinary', 'infectious', 'injury', 'mental', 'misc', 'muscular', 'neoplasms', 'nervous', 'pregnancy', 'prenatal', 'respiratory', 'skin','recovery_day','dob']] \n",
    "X_test=df_test1[[ 'gender_cat', 'ADM_EMERGENCY','ADM_ELECTIVE', 'ETH_WHITE','ETH_OTHER/UNKNOWN','ETH_BLACK/AFRICAN AMERICAN','ETH_HISPANIC/LATINO', 'INS_Medicare','INS_Medicaid','INS_Government','INS_Self Pay', 'MAR_MARRIED','MAR_SINGLE','MAR_WIDOWED','MAR_DIVORCED','DIS_HOME HEALTH CARE','DIS_SNF','DIS_REHAB/DISTINCT PART HOSP','DIS_LONG TERM CARE HOSPITAL','DIS_DISC-TRAN CANCER/CHLDRN H','DIS_LEFT AGAINST MEDICAL ADVI','DIS_SHORT TERM HOSPITAL','DIS_HOME WITH HOME IV PROVIDR','DIS_DISCH-TRAN TO PSYCH HOSP','DIS_ICF','DIS_HOSPICE-MEDICAL FACILITY','DIS_HOSPICE-HOME','blood', 'circulatory', 'congenital', 'digestive', 'endocrine', 'genitourinary', 'infectious', 'injury', 'mental', 'misc', 'muscular', 'neoplasms', 'nervous', 'pregnancy', 'prenatal', 'respiratory', 'skin','recovery_day','dob']]\n",
    "    "
   ]
  },
  {
   "cell_type": "code",
   "execution_count": 48,
   "metadata": {},
   "outputs": [
    {
     "data": {
      "text/plain": [
       "((811, 46), (1748, 46))"
      ]
     },
     "execution_count": 48,
     "metadata": {},
     "output_type": "execute_result"
    }
   ],
   "source": [
    "X_test.shape, X_train.shape"
   ]
  },
  {
   "cell_type": "markdown",
   "metadata": {},
   "source": [
    "## Treatment of Normalized text"
   ]
  },
  {
   "cell_type": "markdown",
   "metadata": {},
   "source": [
    "In this section I will treat text using Bag of Words and NLP, Since I am going to obtain an high dimensionality vector i will apply a PCA to reduce the size.   "
   ]
  },
  {
   "cell_type": "markdown",
   "metadata": {},
   "source": [
    " Before implement bag of words I look at the normalized text in the train set, to fit the best value for the parameter ( Max vocabulary size) "
   ]
  },
  {
   "cell_type": "code",
   "execution_count": 49,
   "metadata": {},
   "outputs": [],
   "source": [
    "# select the normalized text in train set  \n",
    "text_train=df_train1[['text']]"
   ]
  },
  {
   "cell_type": "code",
   "execution_count": 50,
   "metadata": {},
   "outputs": [
    {
     "data": {
      "text/plain": [
       "1748"
      ]
     },
     "execution_count": 50,
     "metadata": {},
     "output_type": "execute_result"
    }
   ],
   "source": [
    "len(text_train)"
   ]
  },
  {
   "cell_type": "markdown",
   "metadata": {},
   "source": [
    "I Have a look at the frequencies of the words in order to fit the parameter, focus on top 500 frequent words in the train set. "
   ]
  },
  {
   "cell_type": "code",
   "execution_count": 51,
   "metadata": {},
   "outputs": [],
   "source": [
    "#train \n",
    "train=df_train1['text']"
   ]
  },
  {
   "cell_type": "code",
   "execution_count": 52,
   "metadata": {},
   "outputs": [],
   "source": [
    "#top 500 frequent words\n",
    "top_N = 500\n",
    "a = train.str.cat(sep=' ')\n",
    "words = nltk.tokenize.word_tokenize(a)\n",
    "word_dist = nltk.FreqDist(words)\n",
    "rslt = pd.DataFrame(word_dist.most_common(top_N),\n",
    "                    columns=['Word', 'Frequency'])\n",
    "\n"
   ]
  },
  {
   "cell_type": "code",
   "execution_count": 53,
   "metadata": {},
   "outputs": [
    {
     "name": "stdout",
     "output_type": "stream",
     "text": [
      "           Word  Frequency\n",
      "0            wa      40352\n",
      "1            po      17905\n",
      "2           one      11050\n",
      "3            hi       9893\n",
      "4          last       7694\n",
      "..          ...        ...\n",
      "495         air         91\n",
      "496  klebsiella         90\n",
      "497     biliari         90\n",
      "498      ostomi         89\n",
      "499   gallbladd         89\n",
      "\n",
      "[500 rows x 2 columns]\n"
     ]
    }
   ],
   "source": [
    "#print all 500 words\n",
    "print(rslt)"
   ]
  },
  {
   "cell_type": "markdown",
   "metadata": {},
   "source": [
    "taking into account the most 500 frequent words seems resonable, the occurence of the last words is near 100 times. "
   ]
  },
  {
   "cell_type": "code",
   "execution_count": 54,
   "metadata": {},
   "outputs": [],
   "source": [
    "train_=train.astype(\"str\")"
   ]
  },
  {
   "cell_type": "markdown",
   "metadata": {},
   "source": [
    "To treat Text data I use Bag of Word and NLP. \n",
    "I will limit the total number of words that I am  interested in modeling to the 500 most frequent words. "
   ]
  },
  {
   "cell_type": "code",
   "execution_count": 55,
   "metadata": {},
   "outputs": [
    {
     "name": "stdout",
     "output_type": "stream",
     "text": [
      "Found 2548 unique tokens.\n"
     ]
    }
   ],
   "source": [
    "from tensorflow.keras.preprocessing.text import Tokenizer\n",
    "\n",
    "from nltk.corpus import stopwords\n",
    "#nltk.download('stopwords')\n",
    "\n",
    "\n",
    "FILTERS='!\"#$%&()*+,-./:;<=>?@[\\\\]^_`{|}~\\t\\n'\n",
    "VOCABULARY_SIZE = 500 # Max the vocabulary size look at the frequancies below to decide it \n",
    "\n",
    "# create the tokenizer\n",
    "tokenizer = Tokenizer(num_words=VOCABULARY_SIZE,\n",
    "              filters=FILTERS,\n",
    "              split=' ',\n",
    "              lower=True,  \n",
    "              oov_token=\"_UNK_\")\n",
    "\n",
    "# fit the tokenizer on the documents\n",
    "tokenizer.fit_on_texts(train_)\n",
    "print('Found %s unique tokens.' % len(tokenizer.word_index))\n",
    "\n",
    "# encode documents\n",
    "X_train_enc = tokenizer.texts_to_sequences(train_)"
   ]
  },
  {
   "cell_type": "markdown",
   "metadata": {},
   "source": [
    " The number of tokenized words in each report varies, so I will constrain each report to be  with a fixed number words, truncating long report and pad the shorter reports with zero values.\n",
    "To define the cut off point i will look at the cumulative distribution of the tokenized reports. "
   ]
  },
  {
   "cell_type": "code",
   "execution_count": 56,
   "metadata": {},
   "outputs": [
    {
     "data": {
      "text/plain": [
       "2679"
      ]
     },
     "execution_count": 56,
     "metadata": {},
     "output_type": "execute_result"
    }
   ],
   "source": [
    "#text size \n",
    "\n",
    "length = []\n",
    "for review in X_train_enc:\n",
    "    length += [len(review)]\n",
    "        \n",
    "max_length = max(length)\n",
    "max_length"
   ]
  },
  {
   "cell_type": "code",
   "execution_count": 57,
   "metadata": {},
   "outputs": [
    {
     "data": {
      "image/png": "[encoded data removed]",
      "text/plain": [
       "<Figure size 432x288 with 1 Axes>"
      ]
     },
     "metadata": {
      "needs_background": "light"
     },
     "output_type": "display_data"
    }
   ],
   "source": [
    "#the histogram of the data\n",
    "plt.hist(length, 50, density=False, cumulative=True, facecolor='g', alpha=0.75)\n",
    "\n",
    "plt.xlabel('length')\n",
    "plt.ylabel('cumulative number')\n",
    "plt.title(\"Histogram of doctor's report length\")\n",
    "plt.grid(True)\n",
    "plt.show()"
   ]
  },
  {
   "cell_type": "markdown",
   "metadata": {},
   "source": [
    "Almost all tokenized clinical reports have less than 1000 words. I decide to truncate at this point in order to reduce the loss of information. The sequence length (number of words) in each reports varies, so I will constrain each report to be 1000 words, truncating long report and pad the shorter reports with zero values"
   ]
  },
  {
   "cell_type": "code",
   "execution_count": 58,
   "metadata": {},
   "outputs": [],
   "source": [
    "from tensorflow.keras.preprocessing.sequence import pad_sequences\n",
    "\n",
    "SEQUENCE_SIZE = 1000     # Number of word in a report \n",
    "PADDING_MODE = 'pre'     #\n",
    "PADDING_VALUE = 0\n",
    "TRUNCATING_MODE='post'\n",
    "\n",
    "X_train_enc = pad_sequences(X_train_enc,\n",
    "                            maxlen=SEQUENCE_SIZE,\n",
    "                            padding=PADDING_MODE,\n",
    "                            truncating=TRUNCATING_MODE,\n",
    "                            value=PADDING_VALUE)"
   ]
  },
  {
   "cell_type": "code",
   "execution_count": 59,
   "metadata": {},
   "outputs": [
    {
     "data": {
      "text/plain": [
       "(1748, 1000)"
      ]
     },
     "execution_count": 59,
     "metadata": {},
     "output_type": "execute_result"
    }
   ],
   "source": [
    "X_train_enc.shape"
   ]
  },
  {
   "cell_type": "markdown",
   "metadata": {},
   "source": [
    "repeat the same operation for the test set  "
   ]
  },
  {
   "cell_type": "code",
   "execution_count": 60,
   "metadata": {},
   "outputs": [],
   "source": [
    "test=df_test1['text']\n",
    "test_=test.astype(\"str\")"
   ]
  },
  {
   "cell_type": "code",
   "execution_count": 61,
   "metadata": {},
   "outputs": [],
   "source": [
    "X_test_enc = tokenizer.texts_to_sequences(test_)"
   ]
  },
  {
   "cell_type": "code",
   "execution_count": 62,
   "metadata": {},
   "outputs": [],
   "source": [
    "X_test_enc = pad_sequences(X_test_enc,\n",
    "                            maxlen=SEQUENCE_SIZE,\n",
    "                            padding=PADDING_MODE,\n",
    "                            truncating=TRUNCATING_MODE,\n",
    "                            value=PADDING_VALUE)"
   ]
  },
  {
   "cell_type": "code",
   "execution_count": 63,
   "metadata": {},
   "outputs": [
    {
     "data": {
      "text/plain": [
       "(811, 1000)"
      ]
     },
     "execution_count": 63,
     "metadata": {},
     "output_type": "execute_result"
    }
   ],
   "source": [
    "X_test_enc.shape"
   ]
  },
  {
   "cell_type": "markdown",
   "metadata": {},
   "source": [
    "Now I have to put together text and numeric information. But of course the dimensionality coming from the text treatment is really high (1000). \n",
    "In order to apply a feature selection in which the number of numeric variables and treated text are in the same order of magnitude I apply a PCA dimensionality reduction to treated info from text. \n",
    "\n",
    "First I will apply standardization to all variables "
   ]
  },
  {
   "cell_type": "code",
   "execution_count": 64,
   "metadata": {},
   "outputs": [],
   "source": [
    "from sklearn.preprocessing import MinMaxScaler,StandardScaler"
   ]
  },
  {
   "cell_type": "code",
   "execution_count": 65,
   "metadata": {},
   "outputs": [],
   "source": [
    "X_train_enc = StandardScaler().fit_transform(X_train_enc)\n",
    "X_test_enc=StandardScaler().fit_transform(X_test_enc)\n",
    "X_train=StandardScaler().fit_transform(X_train)\n",
    "X_test=StandardScaler().fit_transform(X_test)"
   ]
  },
  {
   "cell_type": "code",
   "execution_count": 66,
   "metadata": {},
   "outputs": [],
   "source": [
    "X_train1 = pd.DataFrame(X_train_enc)\n",
    "X_test1=pd.DataFrame(X_test_enc)"
   ]
  },
  {
   "cell_type": "markdown",
   "metadata": {},
   "source": [
    "Principal components are extracted in such a way that the first principal component explains maximum variance in the dataset.\n",
    "Second principal component tries to explain the remaining variance in the dataset and is uncorrelated to the first principal component.\n",
    "Third principal component tries to explain the variance which is not explained by the first two principal components and so on. Intuitively the Principal components are in order of importance concerning the amount of variability explained. "
   ]
  },
  {
   "cell_type": "markdown",
   "metadata": {},
   "source": [
    "I select the first 10 components and then compute the PCA for Dimensionality Reduction.  "
   ]
  },
  {
   "cell_type": "code",
   "execution_count": 67,
   "metadata": {},
   "outputs": [],
   "source": [
    "from sklearn.decomposition import PCA\n",
    "pca = PCA(n_components=10)\n",
    "#train \n",
    "pca_result_train = pca.fit_transform(X_train1.values)"
   ]
  },
  {
   "cell_type": "code",
   "execution_count": 68,
   "metadata": {},
   "outputs": [
    {
     "data": {
      "text/plain": [
       "(1748, 10)"
      ]
     },
     "execution_count": 68,
     "metadata": {},
     "output_type": "execute_result"
    }
   ],
   "source": [
    "pca_result_train.shape"
   ]
  },
  {
   "cell_type": "code",
   "execution_count": 69,
   "metadata": {},
   "outputs": [],
   "source": [
    "#test\n",
    "pca_result_test=pca.fit_transform(X_test1.values)\n"
   ]
  },
  {
   "cell_type": "code",
   "execution_count": 70,
   "metadata": {},
   "outputs": [
    {
     "data": {
      "text/plain": [
       "(811, 10)"
      ]
     },
     "execution_count": 70,
     "metadata": {},
     "output_type": "execute_result"
    }
   ],
   "source": [
    "pca_result_test.shape"
   ]
  },
  {
   "cell_type": "markdown",
   "metadata": {},
   "source": [
    "## Feature selection for the models"
   ]
  },
  {
   "cell_type": "markdown",
   "metadata": {},
   "source": [
    " Now i am ready to put together numeric variables and the information coming from the text (contained in the 10 dimensionality of pca) "
   ]
  },
  {
   "cell_type": "code",
   "execution_count": 71,
   "metadata": {},
   "outputs": [],
   "source": [
    "#test\n",
    "combinedFeatures_test = np.hstack([X_test,pca_result_test])"
   ]
  },
  {
   "cell_type": "code",
   "execution_count": 72,
   "metadata": {},
   "outputs": [],
   "source": [
    "#train\n",
    "combinedFeatures_train = np.hstack([X_train,pca_result_train])"
   ]
  },
  {
   "cell_type": "code",
   "execution_count": 73,
   "metadata": {},
   "outputs": [
    {
     "data": {
      "text/plain": [
       "((1748, 56), (811, 56))"
      ]
     },
     "execution_count": 73,
     "metadata": {},
     "output_type": "execute_result"
    }
   ],
   "source": [
    "#check if test and train have the same shape\n",
    "combinedFeatures_train.shape,combinedFeatures_test.shape"
   ]
  },
  {
   "cell_type": "markdown",
   "metadata": {},
   "source": [
    "Now that I put together the information, let's perform a feature selection "
   ]
  },
  {
   "cell_type": "markdown",
   "metadata": {},
   "source": [
    "Supervised feature selection techniques use the target variable, such as methods that remove irrelevant variables. Feature selection methods use statistical techniques to evaluate the relationship between each input variable and the target variable, and these scores are used as the basis to choose (filter) those input variables that will be used in the model. Since my target variable is categorical and I am dealing with a classification problem I can take F-test to decide which features are more relevant. I can do that because I have test and train separated from the very beginning, otherwise in case of k-fold cross validation this could be dangerous.  "
   ]
  },
  {
   "cell_type": "code",
   "execution_count": 74,
   "metadata": {},
   "outputs": [
    {
     "data": {
      "text/plain": [
       "{'divide': 'warn', 'over': 'warn', 'under': 'ignore', 'invalid': 'warn'}"
      ]
     },
     "execution_count": 74,
     "metadata": {},
     "output_type": "execute_result"
    }
   ],
   "source": [
    "np.seterr(divide='ignore', invalid='ignore')"
   ]
  },
  {
   "cell_type": "code",
   "execution_count": 75,
   "metadata": {},
   "outputs": [],
   "source": [
    "X2_train =combinedFeatures_train\n",
    "X2_test=combinedFeatures_test"
   ]
  },
  {
   "cell_type": "code",
   "execution_count": 76,
   "metadata": {},
   "outputs": [],
   "source": [
    "X2_train = pd.DataFrame(X2_train)"
   ]
  },
  {
   "cell_type": "code",
   "execution_count": 77,
   "metadata": {},
   "outputs": [],
   "source": [
    "X2_test = pd.DataFrame(X2_test)"
   ]
  },
  {
   "cell_type": "code",
   "execution_count": 78,
   "metadata": {},
   "outputs": [
    {
     "name": "stdout",
     "output_type": "stream",
     "text": [
      "(1748, 56)\n"
     ]
    }
   ],
   "source": [
    "#feature selection \n",
    "from sklearn.datasets import make_regression\n",
    "from sklearn.model_selection import train_test_split\n",
    "from sklearn.feature_selection import SelectKBest , f_regression, f_classif\n",
    "# configure to select all features\n",
    "fs = SelectKBest(score_func=f_classif, k='all')\n",
    "# learn relationship from training data\n",
    "fs.fit(X2_train, y_train)\n",
    "# transform train input data\n",
    "X_train_fs = fs.transform(X2_train)\n",
    "# transform test input data\n",
    "X_test_fs = fs.transform(X2_test)\n",
    "X_selected = fs.fit_transform(X2_train, y_train)\n",
    "print(X_selected.shape)"
   ]
  },
  {
   "cell_type": "code",
   "execution_count": 79,
   "metadata": {},
   "outputs": [
    {
     "name": "stdout",
     "output_type": "stream",
     "text": [
      "0 0.008030309472980128\n",
      "1 13.383016728991114\n",
      "2 14.31661253868793\n",
      "3 3.280530678973954\n",
      "4 56.7773015215178\n",
      "5 25.947818583381775\n",
      "6 0.08647269804617015\n",
      "7 43.9648097707727\n",
      "8 2.2402905945854292\n",
      "9 9.585435409249751\n",
      "10 6.771539669156355\n",
      "11 0.5101963023331023\n",
      "12 2.5220046665431286\n",
      "13 0.2073991781608198\n",
      "14 4.715234692417951\n",
      "15 4.015644278363438\n",
      "16 8.468562079952024\n",
      "17 6.613564843914502\n",
      "18 61.84270213852266\n",
      "19 7.111086612261233\n",
      "20 0.5066583545549183\n",
      "21 1.1372998029559604\n",
      "22 3.966162584136658\n",
      "23 0.11757779355144009\n",
      "24 1.518421975345093\n",
      "25 2.6405922878426216\n",
      "26 2.640592287842546\n",
      "27 58.787918533556336\n",
      "28 42.49832798001906\n",
      "29 1.7438021490526052\n",
      "30 54.99953673036694\n",
      "31 91.35853409114857\n",
      "32 82.62556028960401\n",
      "33 48.6961474043799\n",
      "34 42.749099820748754\n",
      "35 6.171303136286192\n",
      "36 86.94233235851813\n",
      "37 16.650675393297114\n",
      "38 0.9376145906527381\n",
      "39 49.59884458434206\n",
      "40 1.1314315211503296\n",
      "41 1.1107653536558957\n",
      "42 61.46283850532506\n",
      "43 25.74016581465873\n",
      "44 17.051129349507367\n",
      "45 10.624277095752225\n",
      "46 40.29980883511672\n",
      "47 46.64458883986798\n",
      "48 24.462816689403926\n",
      "49 5.261990618658154\n",
      "50 2.6297524671462598\n",
      "51 1.1256630182091636\n",
      "52 0.00035971631538232724\n",
      "53 0.12892038052530394\n",
      "54 0.10623714011360622\n",
      "55 0.2473841542686033\n"
     ]
    },
    {
     "data": {
      "image/png": "[encoded data removed]",
      "text/plain": [
       "<Figure size 1080x720 with 1 Axes>"
      ]
     },
     "metadata": {
      "needs_background": "light"
     },
     "output_type": "display_data"
    }
   ],
   "source": [
    "#plot \n",
    "for i in range(len(X2_test.columns)):\n",
    "    print( X2_test.columns[i], fs.scores_[i])\n",
    "# plot the scores\n",
    "plt.figure(figsize=(15,10))\n",
    "plt.bar([i for i in range(len(X2_test.columns))], fs.scores_)\n",
    "plt.xticks(range(len(X2_test.columns)),X2_test.columns, rotation=90)\n",
    "plt.show()"
   ]
  },
  {
   "cell_type": "markdown",
   "metadata": {},
   "source": [
    "select most 21 important features:\n",
    "- ETH_OTHER/UNKNOWN \n",
    "- ETH_BLACK/AFRICAN AMERICAN\n",
    "- INS_MEDICARE\n",
    "- DIS_LONG_TERM CARE HOSPITAL \n",
    "- DIS_DISC_TRANCANCER/ CHLDRN H \n",
    "- Blood\n",
    "- Circulatory\n",
    "- Digestive\n",
    "- Endocrine \n",
    "- Genitourinary\n",
    "- Infectious \n",
    "- Injury\n",
    "- Misc\n",
    "- Muscular \n",
    "- Nervous \n",
    "- Respiratory\n",
    "- Skin \n",
    "- Recovery day\n",
    "- Pca 1 \n",
    "- Pca 2 \n",
    "- Pca 3\n"
   ]
  },
  {
   "cell_type": "markdown",
   "metadata": {},
   "source": [
    "For my models I will use: 5 dummy variables coming from the categorical variables, 12 variables coming from bag of word representation of diagnosis, the amount of time passed in hospital during the last hospitalization and 3 Principal component of doctor's reports dimensionality reduction.    "
   ]
  },
  {
   "cell_type": "code",
   "execution_count": 80,
   "metadata": {},
   "outputs": [],
   "source": [
    "X2_train=X2_train[[4,5,7,18,19,27,28,30,31,32,33,34,36,37,39,42,43,44,46,47,48]] \n",
    "X2_test=X2_test[[4,5,7,18,19,27,28,30,31,32,33,34,36,37,39,42,43,44,46,47,48]]\n",
    " "
   ]
  },
  {
   "cell_type": "markdown",
   "metadata": {},
   "source": [
    "Before proceding with the algorithms I plot the correlation matrix between the features in order to see if they are low correlated.  "
   ]
  },
  {
   "cell_type": "code",
   "execution_count": 81,
   "metadata": {},
   "outputs": [],
   "source": [
    "X2_train = pd.DataFrame(X2_train)"
   ]
  },
  {
   "cell_type": "code",
   "execution_count": 82,
   "metadata": {},
   "outputs": [
    {
     "data": {
      "text/plain": [
       "<AxesSubplot:>"
      ]
     },
     "execution_count": 82,
     "metadata": {},
     "output_type": "execute_result"
    },
    {
     "data": {
      "image/png": "[encoded data removed]",
      "text/plain": [
       "<Figure size 1008x576 with 2 Axes>"
      ]
     },
     "metadata": {
      "needs_background": "light"
     },
     "output_type": "display_data"
    }
   ],
   "source": [
    "#plot the correlation of independent variables \n",
    "# Plot the correlation heatmap\n",
    "from termcolor import colored as cl\n",
    "plt.figure(figsize=(14, 8))\n",
    "corr_matrix = X2_train.corr().round(2)\n",
    "sns.heatmap(data=corr_matrix,cmap='coolwarm',annot=True)"
   ]
  },
  {
   "cell_type": "markdown",
   "metadata": {},
   "source": [
    "features selected are not highly correlated. "
   ]
  },
  {
   "cell_type": "markdown",
   "metadata": {},
   "source": [
    "## Models "
   ]
  },
  {
   "cell_type": "code",
   "execution_count": 83,
   "metadata": {},
   "outputs": [],
   "source": [
    "from sklearn.metrics import accuracy_score"
   ]
  },
  {
   "cell_type": "markdown",
   "metadata": {},
   "source": [
    "### Naive Bayes classifier  "
   ]
  },
  {
   "cell_type": "markdown",
   "metadata": {},
   "source": [
    "Naive Bayes is a conditional probability model it is based on applying Bayes' theorem with strong (naive) independence assumptions between the features. Although the correlation between the input features is low, it is really rare to have the indipendence between features.\n",
    "\n",
    "The different naive Bayes classifiers differ mainly by the assumptions they make regarding the distribution of the likehood, in my model I assume that The likelihood of the features is assumed to be Gaussian\n",
    "\n",
    "- If assumption of independent predictors holds true and assumed probability distributions are true, then a Naive Bayes classifier is the best classifier compared to every other classifier\n",
    "- Naive bayes is easy to implement and efficient (In a one pass over data you can learn all parameters)\n",
    "- Handles well small datasets, it is my case since I reduce dimensionality with PCA. \n"
   ]
  },
  {
   "cell_type": "code",
   "execution_count": 84,
   "metadata": {},
   "outputs": [],
   "source": [
    "from sklearn.naive_bayes import  MultinomialNB, GaussianNB, BernoulliNB "
   ]
  },
  {
   "cell_type": "code",
   "execution_count": 85,
   "metadata": {},
   "outputs": [],
   "source": [
    "#scale the features between 0 and 1 \n",
    "X3_train =MinMaxScaler().fit_transform(X2_train)\n",
    "X3_test=MinMaxScaler().fit_transform(X2_test)"
   ]
  },
  {
   "cell_type": "code",
   "execution_count": 86,
   "metadata": {},
   "outputs": [],
   "source": [
    "X3_train = pd.DataFrame(X3_train)"
   ]
  },
  {
   "cell_type": "code",
   "execution_count": 87,
   "metadata": {},
   "outputs": [],
   "source": [
    "X3_test = pd.DataFrame(X3_test)"
   ]
  },
  {
   "cell_type": "code",
   "execution_count": 88,
   "metadata": {},
   "outputs": [
    {
     "data": {
      "text/plain": [
       "GaussianNB()"
      ]
     },
     "execution_count": 88,
     "metadata": {},
     "output_type": "execute_result"
    }
   ],
   "source": [
    "#assumption of Gaussian distribution for the likehood\n",
    "nbc_B = GaussianNB()\n",
    "nbc_B.fit(X3_train,y_train)"
   ]
  },
  {
   "cell_type": "code",
   "execution_count": 89,
   "metadata": {},
   "outputs": [
    {
     "data": {
      "text/plain": [
       "0.648741418764302"
      ]
     },
     "execution_count": 89,
     "metadata": {},
     "output_type": "execute_result"
    }
   ],
   "source": [
    "#train \n",
    "nbc_B.score(X3_train, y_train)"
   ]
  },
  {
   "cell_type": "code",
   "execution_count": 90,
   "metadata": {},
   "outputs": [],
   "source": [
    "#prediction on the test set\n",
    "y_pred_nv_txt_B=nbc_B.predict(X3_test)"
   ]
  },
  {
   "cell_type": "code",
   "execution_count": 91,
   "metadata": {},
   "outputs": [
    {
     "data": {
      "text/plain": [
       "0.6966707768187423"
      ]
     },
     "execution_count": 91,
     "metadata": {},
     "output_type": "execute_result"
    }
   ],
   "source": [
    "#quick look at the metric\n",
    "accuracy_score(y_test,y_pred_nv_txt_B)"
   ]
  },
  {
   "cell_type": "markdown",
   "metadata": {},
   "source": [
    "### Logistic regression classifier   "
   ]
  },
  {
   "cell_type": "markdown",
   "metadata": {},
   "source": [
    "Logistic regression, despite its name, is a linear model for classification rather than regression. In this model, the probabilities describing the possible outcomes of a single trial are modeled using a logistic function that has a codomain between 0 and 1. \n",
    "I want to maximize the likelihood that a random data point gets classified correctly, which is called Maximum Likelihood Estimation. The solver “liblinear” uses a coordinate descent (CD) algorithm, as optimizer. C is the inverse of regularization strength; must be a positive float. Like in support vector machines, smaller values specify stronger regularization, will give a wider range at the cost of some missclassification.\n",
    "\n",
    "Like linear regression, logistic regression does work better when you remove attributes that are unrelated to the output variable as well as attributes that are very similar (correlated) to each other. I did it before in the feature selection and showed the correlation map in which features are low correlated. "
   ]
  },
  {
   "cell_type": "code",
   "execution_count": 92,
   "metadata": {},
   "outputs": [],
   "source": [
    "from sklearn.linear_model import LogisticRegression"
   ]
  },
  {
   "cell_type": "code",
   "execution_count": 93,
   "metadata": {},
   "outputs": [],
   "source": [
    "#compile the model (optimizer and regularization strength, fit_intercept = True by default )\n",
    "model_txt_B= LogisticRegression(solver='liblinear',C=0.01,random_state=0)"
   ]
  },
  {
   "cell_type": "code",
   "execution_count": 94,
   "metadata": {},
   "outputs": [
    {
     "data": {
      "text/plain": [
       "LogisticRegression(C=0.01, random_state=0, solver='liblinear')"
      ]
     },
     "execution_count": 94,
     "metadata": {},
     "output_type": "execute_result"
    }
   ],
   "source": [
    "#fit \n",
    "model_txt_B.fit(X2_train, y_train)"
   ]
  },
  {
   "cell_type": "code",
   "execution_count": 95,
   "metadata": {},
   "outputs": [],
   "source": [
    "#prediction of test set \n",
    "y_pred_log_txt_B=model_txt_B.predict(X2_test)"
   ]
  },
  {
   "cell_type": "code",
   "execution_count": 96,
   "metadata": {},
   "outputs": [
    {
     "data": {
      "text/plain": [
       "0.689272503082614"
      ]
     },
     "execution_count": 96,
     "metadata": {},
     "output_type": "execute_result"
    }
   ],
   "source": [
    "#quick look at the metric\n",
    "accuracy_score(y_test,y_pred_log_txt_B)"
   ]
  },
  {
   "cell_type": "markdown",
   "metadata": {},
   "source": [
    "### SVM Classifier"
   ]
  },
  {
   "cell_type": "markdown",
   "metadata": {},
   "source": [
    "SVMs (support vector machines) are very adaptive, can learn both simple and highly complex classification models. I can obtain a linear separation in a high features space using a Kernel (Kernel trick). SVM have a set of predefined kernels such as linear, sigmoid, radial basis function and polynomial. There are many hyperplanes that might classify the data. One reasonable choice as the best hyperplane is the one that represents the largest separation, or margin, between the two classes. In order to find the best kernel to my model and tune the best parameters I will implement a gridsearch.   "
   ]
  },
  {
   "cell_type": "code",
   "execution_count": 97,
   "metadata": {},
   "outputs": [],
   "source": [
    "from sklearn.model_selection import GridSearchCV"
   ]
  },
  {
   "cell_type": "code",
   "execution_count": 98,
   "metadata": {},
   "outputs": [],
   "source": [
    "from sklearn.svm import SVC "
   ]
  },
  {
   "cell_type": "markdown",
   "metadata": {},
   "source": [
    "An SVM maps training examples to points in space so as to maximise the width of the gap between the two categories. I choose the hyperplane so that the distance from it to the nearest data point on each side is maximized with a little bit of tolerance.\n",
    "The parameter C, soft margin parameter, indicate the accepting errors: a huge value of C will give the hard margin classifier and tolerates zero constraint violation, but of course I have to keep attention at noisy data in order to avoid their impact on the classifier. The gamma parameter is set to 'auto' in order to specify the kernel coefficient of rbf, sigmoid and poly equal to 1/(n_features) "
   ]
  },
  {
   "cell_type": "code",
   "execution_count": 99,
   "metadata": {},
   "outputs": [],
   "source": [
    "#set of possibilities in which search the best one \n",
    "param_grid = [{'C': [0.5,0.7, 0.8, 1,1.2,1.4,1.6], 'gamma': ['auto'], 'kernel': ['linear']},\n",
    "              {'C': [0.5,0.7, 0.8, 1,1.2,1.4,1.6], 'gamma': ['auto'], 'kernel': ['rbf']},\n",
    "              {'C': [0.5,0.7,0.8, 1,1.2,1.4,1.6], 'gamma': ['auto'], 'kernel': ['sigmoid']},\n",
    "              {'C': [0.5,0.7,0.8, 1,1.2,1.4,1.6], 'gamma': ['auto'], 'kernel': ['poly'],'degree':[2,3]}\n",
    "             ]\n"
   ]
  },
  {
   "cell_type": "code",
   "execution_count": 100,
   "metadata": {},
   "outputs": [],
   "source": [
    "#search over specified parameter values for an estimator.\n",
    "# verbose =3 the fold and candidate parameter indexes are also displayed together with the starting time of the computation\n",
    "grid = GridSearchCV(SVC(), param_grid, verbose = 3)"
   ]
  },
  {
   "cell_type": "code",
   "execution_count": 101,
   "metadata": {},
   "outputs": [
    {
     "name": "stdout",
     "output_type": "stream",
     "text": [
      "Fitting 5 folds for each of 35 candidates, totalling 175 fits\n",
      "[CV] C=0.5, gamma=auto, kernel=linear ................................\n",
      "[CV] .... C=0.5, gamma=auto, kernel=linear, score=0.683, total=   0.1s\n",
      "[CV] C=0.5, gamma=auto, kernel=linear ................................\n"
     ]
    },
    {
     "name": "stderr",
     "output_type": "stream",
     "text": [
      "[Parallel(n_jobs=1)]: Using backend SequentialBackend with 1 concurrent workers.\n",
      "[Parallel(n_jobs=1)]: Done   1 out of   1 | elapsed:    0.1s remaining:    0.0s\n"
     ]
    },
    {
     "name": "stdout",
     "output_type": "stream",
     "text": [
      "[CV] .... C=0.5, gamma=auto, kernel=linear, score=0.700, total=   0.1s\n",
      "[CV] C=0.5, gamma=auto, kernel=linear ................................\n",
      "[CV] .... C=0.5, gamma=auto, kernel=linear, score=0.674, total=   0.1s\n",
      "[CV] C=0.5, gamma=auto, kernel=linear ................................\n",
      "[CV] .... C=0.5, gamma=auto, kernel=linear, score=0.668, total=   0.1s\n",
      "[CV] C=0.5, gamma=auto, kernel=linear ................................\n"
     ]
    },
    {
     "name": "stderr",
     "output_type": "stream",
     "text": [
      "[Parallel(n_jobs=1)]: Done   2 out of   2 | elapsed:    0.2s remaining:    0.0s\n"
     ]
    },
    {
     "name": "stdout",
     "output_type": "stream",
     "text": [
      "[CV] .... C=0.5, gamma=auto, kernel=linear, score=0.679, total=   0.1s\n",
      "[CV] C=0.7, gamma=auto, kernel=linear ................................\n",
      "[CV] .... C=0.7, gamma=auto, kernel=linear, score=0.691, total=   0.1s\n",
      "[CV] C=0.7, gamma=auto, kernel=linear ................................\n",
      "[CV] .... C=0.7, gamma=auto, kernel=linear, score=0.689, total=   0.1s\n",
      "[CV] C=0.7, gamma=auto, kernel=linear ................................\n",
      "[CV] .... C=0.7, gamma=auto, kernel=linear, score=0.663, total=   0.1s\n",
      "[CV] C=0.7, gamma=auto, kernel=linear ................................\n",
      "[CV] .... C=0.7, gamma=auto, kernel=linear, score=0.659, total=   0.1s\n",
      "[CV] C=0.7, gamma=auto, kernel=linear ................................\n",
      "[CV] .... C=0.7, gamma=auto, kernel=linear, score=0.685, total=   0.1s\n",
      "[CV] C=0.8, gamma=auto, kernel=linear ................................\n",
      "[CV] .... C=0.8, gamma=auto, kernel=linear, score=0.700, total=   0.1s\n",
      "[CV] C=0.8, gamma=auto, kernel=linear ................................\n",
      "[CV] .... C=0.8, gamma=auto, kernel=linear, score=0.689, total=   0.1s\n",
      "[CV] C=0.8, gamma=auto, kernel=linear ................................\n",
      "[CV] .... C=0.8, gamma=auto, kernel=linear, score=0.669, total=   0.1s\n",
      "[CV] C=0.8, gamma=auto, kernel=linear ................................\n",
      "[CV] .... C=0.8, gamma=auto, kernel=linear, score=0.656, total=   0.1s\n",
      "[CV] C=0.8, gamma=auto, kernel=linear ................................\n",
      "[CV] .... C=0.8, gamma=auto, kernel=linear, score=0.685, total=   0.1s\n",
      "[CV] C=1, gamma=auto, kernel=linear ..................................\n",
      "[CV] ...... C=1, gamma=auto, kernel=linear, score=0.703, total=   0.1s\n",
      "[CV] C=1, gamma=auto, kernel=linear ..................................\n",
      "[CV] ...... C=1, gamma=auto, kernel=linear, score=0.689, total=   0.1s\n",
      "[CV] C=1, gamma=auto, kernel=linear ..................................\n",
      "[CV] ...... C=1, gamma=auto, kernel=linear, score=0.663, total=   0.1s\n",
      "[CV] C=1, gamma=auto, kernel=linear ..................................\n",
      "[CV] ...... C=1, gamma=auto, kernel=linear, score=0.659, total=   0.1s\n",
      "[CV] C=1, gamma=auto, kernel=linear ..................................\n",
      "[CV] ...... C=1, gamma=auto, kernel=linear, score=0.682, total=   0.1s\n",
      "[CV] C=1.2, gamma=auto, kernel=linear ................................\n",
      "[CV] .... C=1.2, gamma=auto, kernel=linear, score=0.711, total=   0.1s\n",
      "[CV] C=1.2, gamma=auto, kernel=linear ................................\n",
      "[CV] .... C=1.2, gamma=auto, kernel=linear, score=0.689, total=   0.1s\n",
      "[CV] C=1.2, gamma=auto, kernel=linear ................................\n",
      "[CV] .... C=1.2, gamma=auto, kernel=linear, score=0.663, total=   0.1s\n",
      "[CV] C=1.2, gamma=auto, kernel=linear ................................\n",
      "[CV] .... C=1.2, gamma=auto, kernel=linear, score=0.670, total=   0.1s\n",
      "[CV] C=1.2, gamma=auto, kernel=linear ................................\n",
      "[CV] .... C=1.2, gamma=auto, kernel=linear, score=0.682, total=   0.1s\n",
      "[CV] C=1.4, gamma=auto, kernel=linear ................................\n",
      "[CV] .... C=1.4, gamma=auto, kernel=linear, score=0.711, total=   0.1s\n",
      "[CV] C=1.4, gamma=auto, kernel=linear ................................\n",
      "[CV] .... C=1.4, gamma=auto, kernel=linear, score=0.689, total=   0.1s\n",
      "[CV] C=1.4, gamma=auto, kernel=linear ................................\n",
      "[CV] .... C=1.4, gamma=auto, kernel=linear, score=0.663, total=   0.1s\n",
      "[CV] C=1.4, gamma=auto, kernel=linear ................................\n",
      "[CV] .... C=1.4, gamma=auto, kernel=linear, score=0.668, total=   0.2s\n",
      "[CV] C=1.4, gamma=auto, kernel=linear ................................\n",
      "[CV] .... C=1.4, gamma=auto, kernel=linear, score=0.682, total=   0.2s\n",
      "[CV] C=1.6, gamma=auto, kernel=linear ................................\n",
      "[CV] .... C=1.6, gamma=auto, kernel=linear, score=0.714, total=   0.2s\n",
      "[CV] C=1.6, gamma=auto, kernel=linear ................................\n",
      "[CV] .... C=1.6, gamma=auto, kernel=linear, score=0.686, total=   0.1s\n",
      "[CV] C=1.6, gamma=auto, kernel=linear ................................\n",
      "[CV] .... C=1.6, gamma=auto, kernel=linear, score=0.663, total=   0.3s\n",
      "[CV] C=1.6, gamma=auto, kernel=linear ................................\n",
      "[CV] .... C=1.6, gamma=auto, kernel=linear, score=0.668, total=   0.2s\n",
      "[CV] C=1.6, gamma=auto, kernel=linear ................................\n",
      "[CV] .... C=1.6, gamma=auto, kernel=linear, score=0.679, total=   0.2s\n",
      "[CV] C=0.5, gamma=auto, kernel=rbf ...................................\n",
      "[CV] ....... C=0.5, gamma=auto, kernel=rbf, score=0.686, total=   0.1s\n",
      "[CV] C=0.5, gamma=auto, kernel=rbf ...................................\n",
      "[CV] ....... C=0.5, gamma=auto, kernel=rbf, score=0.691, total=   0.1s\n",
      "[CV] C=0.5, gamma=auto, kernel=rbf ...................................\n",
      "[CV] ....... C=0.5, gamma=auto, kernel=rbf, score=0.671, total=   0.1s\n",
      "[CV] C=0.5, gamma=auto, kernel=rbf ...................................\n",
      "[CV] ....... C=0.5, gamma=auto, kernel=rbf, score=0.636, total=   0.1s\n",
      "[CV] C=0.5, gamma=auto, kernel=rbf ...................................\n",
      "[CV] ....... C=0.5, gamma=auto, kernel=rbf, score=0.676, total=   0.1s\n",
      "[CV] C=0.7, gamma=auto, kernel=rbf ...................................\n",
      "[CV] ....... C=0.7, gamma=auto, kernel=rbf, score=0.700, total=   0.1s\n",
      "[CV] C=0.7, gamma=auto, kernel=rbf ...................................\n",
      "[CV] ....... C=0.7, gamma=auto, kernel=rbf, score=0.700, total=   0.1s\n",
      "[CV] C=0.7, gamma=auto, kernel=rbf ...................................\n",
      "[CV] ....... C=0.7, gamma=auto, kernel=rbf, score=0.671, total=   0.1s\n",
      "[CV] C=0.7, gamma=auto, kernel=rbf ...................................\n",
      "[CV] ....... C=0.7, gamma=auto, kernel=rbf, score=0.656, total=   0.1s\n",
      "[CV] C=0.7, gamma=auto, kernel=rbf ...................................\n",
      "[CV] ....... C=0.7, gamma=auto, kernel=rbf, score=0.676, total=   0.1s\n",
      "[CV] C=0.8, gamma=auto, kernel=rbf ...................................\n",
      "[CV] ....... C=0.8, gamma=auto, kernel=rbf, score=0.700, total=   0.2s\n",
      "[CV] C=0.8, gamma=auto, kernel=rbf ...................................\n",
      "[CV] ....... C=0.8, gamma=auto, kernel=rbf, score=0.709, total=   0.3s\n",
      "[CV] C=0.8, gamma=auto, kernel=rbf ...................................\n",
      "[CV] ....... C=0.8, gamma=auto, kernel=rbf, score=0.677, total=   0.3s\n",
      "[CV] C=0.8, gamma=auto, kernel=rbf ...................................\n",
      "[CV] ....... C=0.8, gamma=auto, kernel=rbf, score=0.653, total=   0.2s\n",
      "[CV] C=0.8, gamma=auto, kernel=rbf ...................................\n",
      "[CV] ....... C=0.8, gamma=auto, kernel=rbf, score=0.665, total=   0.1s\n",
      "[CV] C=1, gamma=auto, kernel=rbf .....................................\n",
      "[CV] ......... C=1, gamma=auto, kernel=rbf, score=0.697, total=   0.1s\n",
      "[CV] C=1, gamma=auto, kernel=rbf .....................................\n",
      "[CV] ......... C=1, gamma=auto, kernel=rbf, score=0.720, total=   0.2s\n",
      "[CV] C=1, gamma=auto, kernel=rbf .....................................\n",
      "[CV] ......... C=1, gamma=auto, kernel=rbf, score=0.674, total=   0.2s\n",
      "[CV] C=1, gamma=auto, kernel=rbf .....................................\n",
      "[CV] ......... C=1, gamma=auto, kernel=rbf, score=0.648, total=   0.2s\n",
      "[CV] C=1, gamma=auto, kernel=rbf .....................................\n",
      "[CV] ......... C=1, gamma=auto, kernel=rbf, score=0.668, total=   0.2s\n",
      "[CV] C=1.2, gamma=auto, kernel=rbf ...................................\n",
      "[CV] ....... C=1.2, gamma=auto, kernel=rbf, score=0.700, total=   0.1s\n",
      "[CV] C=1.2, gamma=auto, kernel=rbf ...................................\n",
      "[CV] ....... C=1.2, gamma=auto, kernel=rbf, score=0.723, total=   0.1s\n",
      "[CV] C=1.2, gamma=auto, kernel=rbf ...................................\n",
      "[CV] ....... C=1.2, gamma=auto, kernel=rbf, score=0.671, total=   0.1s\n",
      "[CV] C=1.2, gamma=auto, kernel=rbf ...................................\n",
      "[CV] ....... C=1.2, gamma=auto, kernel=rbf, score=0.653, total=   0.1s\n",
      "[CV] C=1.2, gamma=auto, kernel=rbf ...................................\n",
      "[CV] ....... C=1.2, gamma=auto, kernel=rbf, score=0.682, total=   0.1s\n",
      "[CV] C=1.4, gamma=auto, kernel=rbf ...................................\n",
      "[CV] ....... C=1.4, gamma=auto, kernel=rbf, score=0.691, total=   0.1s\n",
      "[CV] C=1.4, gamma=auto, kernel=rbf ...................................\n",
      "[CV] ....... C=1.4, gamma=auto, kernel=rbf, score=0.720, total=   0.1s\n",
      "[CV] C=1.4, gamma=auto, kernel=rbf ...................................\n"
     ]
    },
    {
     "name": "stdout",
     "output_type": "stream",
     "text": [
      "[CV] ....... C=1.4, gamma=auto, kernel=rbf, score=0.669, total=   0.1s\n",
      "[CV] C=1.4, gamma=auto, kernel=rbf ...................................\n",
      "[CV] ....... C=1.4, gamma=auto, kernel=rbf, score=0.645, total=   0.1s\n",
      "[CV] C=1.4, gamma=auto, kernel=rbf ...................................\n",
      "[CV] ....... C=1.4, gamma=auto, kernel=rbf, score=0.676, total=   0.2s\n",
      "[CV] C=1.6, gamma=auto, kernel=rbf ...................................\n",
      "[CV] ....... C=1.6, gamma=auto, kernel=rbf, score=0.694, total=   0.2s\n",
      "[CV] C=1.6, gamma=auto, kernel=rbf ...................................\n",
      "[CV] ....... C=1.6, gamma=auto, kernel=rbf, score=0.720, total=   0.2s\n",
      "[CV] C=1.6, gamma=auto, kernel=rbf ...................................\n",
      "[CV] ....... C=1.6, gamma=auto, kernel=rbf, score=0.677, total=   0.3s\n",
      "[CV] C=1.6, gamma=auto, kernel=rbf ...................................\n",
      "[CV] ....... C=1.6, gamma=auto, kernel=rbf, score=0.650, total=   0.3s\n",
      "[CV] C=1.6, gamma=auto, kernel=rbf ...................................\n",
      "[CV] ....... C=1.6, gamma=auto, kernel=rbf, score=0.670, total=   0.1s\n",
      "[CV] C=0.5, gamma=auto, kernel=sigmoid ...............................\n",
      "[CV] ... C=0.5, gamma=auto, kernel=sigmoid, score=0.686, total=   0.1s\n",
      "[CV] C=0.5, gamma=auto, kernel=sigmoid ...............................\n",
      "[CV] ... C=0.5, gamma=auto, kernel=sigmoid, score=0.694, total=   0.1s\n",
      "[CV] C=0.5, gamma=auto, kernel=sigmoid ...............................\n",
      "[CV] ... C=0.5, gamma=auto, kernel=sigmoid, score=0.703, total=   0.1s\n",
      "[CV] C=0.5, gamma=auto, kernel=sigmoid ...............................\n",
      "[CV] ... C=0.5, gamma=auto, kernel=sigmoid, score=0.642, total=   0.1s\n",
      "[CV] C=0.5, gamma=auto, kernel=sigmoid ...............................\n",
      "[CV] ... C=0.5, gamma=auto, kernel=sigmoid, score=0.642, total=   0.1s\n",
      "[CV] C=0.7, gamma=auto, kernel=sigmoid ...............................\n",
      "[CV] ... C=0.7, gamma=auto, kernel=sigmoid, score=0.697, total=   0.1s\n",
      "[CV] C=0.7, gamma=auto, kernel=sigmoid ...............................\n",
      "[CV] ... C=0.7, gamma=auto, kernel=sigmoid, score=0.703, total=   0.1s\n",
      "[CV] C=0.7, gamma=auto, kernel=sigmoid ...............................\n",
      "[CV] ... C=0.7, gamma=auto, kernel=sigmoid, score=0.691, total=   0.2s\n",
      "[CV] C=0.7, gamma=auto, kernel=sigmoid ...............................\n",
      "[CV] ... C=0.7, gamma=auto, kernel=sigmoid, score=0.639, total=   0.1s\n",
      "[CV] C=0.7, gamma=auto, kernel=sigmoid ...............................\n",
      "[CV] ... C=0.7, gamma=auto, kernel=sigmoid, score=0.662, total=   0.1s\n",
      "[CV] C=0.8, gamma=auto, kernel=sigmoid ...............................\n",
      "[CV] ... C=0.8, gamma=auto, kernel=sigmoid, score=0.694, total=   0.1s\n",
      "[CV] C=0.8, gamma=auto, kernel=sigmoid ...............................\n",
      "[CV] ... C=0.8, gamma=auto, kernel=sigmoid, score=0.689, total=   0.1s\n",
      "[CV] C=0.8, gamma=auto, kernel=sigmoid ...............................\n",
      "[CV] ... C=0.8, gamma=auto, kernel=sigmoid, score=0.691, total=   0.1s\n",
      "[CV] C=0.8, gamma=auto, kernel=sigmoid ...............................\n",
      "[CV] ... C=0.8, gamma=auto, kernel=sigmoid, score=0.645, total=   0.1s\n",
      "[CV] C=0.8, gamma=auto, kernel=sigmoid ...............................\n",
      "[CV] ... C=0.8, gamma=auto, kernel=sigmoid, score=0.668, total=   0.1s\n",
      "[CV] C=1, gamma=auto, kernel=sigmoid .................................\n",
      "[CV] ..... C=1, gamma=auto, kernel=sigmoid, score=0.677, total=   0.1s\n",
      "[CV] C=1, gamma=auto, kernel=sigmoid .................................\n",
      "[CV] ..... C=1, gamma=auto, kernel=sigmoid, score=0.694, total=   0.1s\n",
      "[CV] C=1, gamma=auto, kernel=sigmoid .................................\n",
      "[CV] ..... C=1, gamma=auto, kernel=sigmoid, score=0.686, total=   0.1s\n",
      "[CV] C=1, gamma=auto, kernel=sigmoid .................................\n",
      "[CV] ..... C=1, gamma=auto, kernel=sigmoid, score=0.633, total=   0.2s\n",
      "[CV] C=1, gamma=auto, kernel=sigmoid .................................\n",
      "[CV] ..... C=1, gamma=auto, kernel=sigmoid, score=0.676, total=   0.1s\n",
      "[CV] C=1.2, gamma=auto, kernel=sigmoid ...............................\n",
      "[CV] ... C=1.2, gamma=auto, kernel=sigmoid, score=0.680, total=   0.2s\n",
      "[CV] C=1.2, gamma=auto, kernel=sigmoid ...............................\n",
      "[CV] ... C=1.2, gamma=auto, kernel=sigmoid, score=0.691, total=   0.2s\n",
      "[CV] C=1.2, gamma=auto, kernel=sigmoid ...............................\n",
      "[CV] ... C=1.2, gamma=auto, kernel=sigmoid, score=0.671, total=   0.2s\n",
      "[CV] C=1.2, gamma=auto, kernel=sigmoid ...............................\n",
      "[CV] ... C=1.2, gamma=auto, kernel=sigmoid, score=0.650, total=   0.1s\n",
      "[CV] C=1.2, gamma=auto, kernel=sigmoid ...............................\n",
      "[CV] ... C=1.2, gamma=auto, kernel=sigmoid, score=0.676, total=   0.1s\n",
      "[CV] C=1.4, gamma=auto, kernel=sigmoid ...............................\n",
      "[CV] ... C=1.4, gamma=auto, kernel=sigmoid, score=0.691, total=   0.2s\n",
      "[CV] C=1.4, gamma=auto, kernel=sigmoid ...............................\n",
      "[CV] ... C=1.4, gamma=auto, kernel=sigmoid, score=0.706, total=   0.3s\n",
      "[CV] C=1.4, gamma=auto, kernel=sigmoid ...............................\n",
      "[CV] ... C=1.4, gamma=auto, kernel=sigmoid, score=0.671, total=   0.2s\n",
      "[CV] C=1.4, gamma=auto, kernel=sigmoid ...............................\n",
      "[CV] ... C=1.4, gamma=auto, kernel=sigmoid, score=0.648, total=   0.1s\n",
      "[CV] C=1.4, gamma=auto, kernel=sigmoid ...............................\n",
      "[CV] ... C=1.4, gamma=auto, kernel=sigmoid, score=0.670, total=   0.3s\n",
      "[CV] C=1.6, gamma=auto, kernel=sigmoid ...............................\n",
      "[CV] ... C=1.6, gamma=auto, kernel=sigmoid, score=0.686, total=   0.3s\n",
      "[CV] C=1.6, gamma=auto, kernel=sigmoid ...............................\n",
      "[CV] ... C=1.6, gamma=auto, kernel=sigmoid, score=0.711, total=   0.1s\n",
      "[CV] C=1.6, gamma=auto, kernel=sigmoid ...............................\n",
      "[CV] ... C=1.6, gamma=auto, kernel=sigmoid, score=0.671, total=   0.1s\n",
      "[CV] C=1.6, gamma=auto, kernel=sigmoid ...............................\n",
      "[CV] ... C=1.6, gamma=auto, kernel=sigmoid, score=0.650, total=   0.1s\n",
      "[CV] C=1.6, gamma=auto, kernel=sigmoid ...............................\n",
      "[CV] ... C=1.6, gamma=auto, kernel=sigmoid, score=0.670, total=   0.1s\n",
      "[CV] C=0.5, degree=2, gamma=auto, kernel=poly ........................\n",
      "[CV]  C=0.5, degree=2, gamma=auto, kernel=poly, score=0.569, total=   0.1s\n",
      "[CV] C=0.5, degree=2, gamma=auto, kernel=poly ........................\n",
      "[CV]  C=0.5, degree=2, gamma=auto, kernel=poly, score=0.569, total=   0.1s\n",
      "[CV] C=0.5, degree=2, gamma=auto, kernel=poly ........................\n",
      "[CV]  C=0.5, degree=2, gamma=auto, kernel=poly, score=0.569, total=   0.1s\n",
      "[CV] C=0.5, degree=2, gamma=auto, kernel=poly ........................\n",
      "[CV]  C=0.5, degree=2, gamma=auto, kernel=poly, score=0.567, total=   0.1s\n",
      "[CV] C=0.5, degree=2, gamma=auto, kernel=poly ........................\n",
      "[CV]  C=0.5, degree=2, gamma=auto, kernel=poly, score=0.570, total=   0.1s\n",
      "[CV] C=0.5, degree=3, gamma=auto, kernel=poly ........................\n",
      "[CV]  C=0.5, degree=3, gamma=auto, kernel=poly, score=0.569, total=   0.1s\n",
      "[CV] C=0.5, degree=3, gamma=auto, kernel=poly ........................\n",
      "[CV]  C=0.5, degree=3, gamma=auto, kernel=poly, score=0.569, total=   0.1s\n",
      "[CV] C=0.5, degree=3, gamma=auto, kernel=poly ........................\n",
      "[CV]  C=0.5, degree=3, gamma=auto, kernel=poly, score=0.569, total=   0.1s\n",
      "[CV] C=0.5, degree=3, gamma=auto, kernel=poly ........................\n",
      "[CV]  C=0.5, degree=3, gamma=auto, kernel=poly, score=0.567, total=   0.1s\n",
      "[CV] C=0.5, degree=3, gamma=auto, kernel=poly ........................\n",
      "[CV]  C=0.5, degree=3, gamma=auto, kernel=poly, score=0.570, total=   0.2s\n",
      "[CV] C=0.7, degree=2, gamma=auto, kernel=poly ........................\n",
      "[CV]  C=0.7, degree=2, gamma=auto, kernel=poly, score=0.569, total=   0.1s\n",
      "[CV] C=0.7, degree=2, gamma=auto, kernel=poly ........................\n",
      "[CV]  C=0.7, degree=2, gamma=auto, kernel=poly, score=0.569, total=   0.1s\n",
      "[CV] C=0.7, degree=2, gamma=auto, kernel=poly ........................\n",
      "[CV]  C=0.7, degree=2, gamma=auto, kernel=poly, score=0.569, total=   0.1s\n",
      "[CV] C=0.7, degree=2, gamma=auto, kernel=poly ........................\n",
      "[CV]  C=0.7, degree=2, gamma=auto, kernel=poly, score=0.567, total=   0.1s\n",
      "[CV] C=0.7, degree=2, gamma=auto, kernel=poly ........................\n",
      "[CV]  C=0.7, degree=2, gamma=auto, kernel=poly, score=0.570, total=   0.1s\n",
      "[CV] C=0.7, degree=3, gamma=auto, kernel=poly ........................\n",
      "[CV]  C=0.7, degree=3, gamma=auto, kernel=poly, score=0.569, total=   0.1s\n",
      "[CV] C=0.7, degree=3, gamma=auto, kernel=poly ........................\n",
      "[CV]  C=0.7, degree=3, gamma=auto, kernel=poly, score=0.569, total=   0.1s\n",
      "[CV] C=0.7, degree=3, gamma=auto, kernel=poly ........................\n"
     ]
    },
    {
     "name": "stdout",
     "output_type": "stream",
     "text": [
      "[CV]  C=0.7, degree=3, gamma=auto, kernel=poly, score=0.569, total=   0.1s\n",
      "[CV] C=0.7, degree=3, gamma=auto, kernel=poly ........................\n",
      "[CV]  C=0.7, degree=3, gamma=auto, kernel=poly, score=0.567, total=   0.1s\n",
      "[CV] C=0.7, degree=3, gamma=auto, kernel=poly ........................\n",
      "[CV]  C=0.7, degree=3, gamma=auto, kernel=poly, score=0.570, total=   0.1s\n",
      "[CV] C=0.8, degree=2, gamma=auto, kernel=poly ........................\n",
      "[CV]  C=0.8, degree=2, gamma=auto, kernel=poly, score=0.569, total=   0.1s\n",
      "[CV] C=0.8, degree=2, gamma=auto, kernel=poly ........................\n",
      "[CV]  C=0.8, degree=2, gamma=auto, kernel=poly, score=0.569, total=   0.1s\n",
      "[CV] C=0.8, degree=2, gamma=auto, kernel=poly ........................\n",
      "[CV]  C=0.8, degree=2, gamma=auto, kernel=poly, score=0.569, total=   0.1s\n",
      "[CV] C=0.8, degree=2, gamma=auto, kernel=poly ........................\n",
      "[CV]  C=0.8, degree=2, gamma=auto, kernel=poly, score=0.567, total=   0.1s\n",
      "[CV] C=0.8, degree=2, gamma=auto, kernel=poly ........................\n",
      "[CV]  C=0.8, degree=2, gamma=auto, kernel=poly, score=0.570, total=   0.1s\n",
      "[CV] C=0.8, degree=3, gamma=auto, kernel=poly ........................\n",
      "[CV]  C=0.8, degree=3, gamma=auto, kernel=poly, score=0.569, total=   0.2s\n",
      "[CV] C=0.8, degree=3, gamma=auto, kernel=poly ........................\n",
      "[CV]  C=0.8, degree=3, gamma=auto, kernel=poly, score=0.569, total=   0.2s\n",
      "[CV] C=0.8, degree=3, gamma=auto, kernel=poly ........................\n",
      "[CV]  C=0.8, degree=3, gamma=auto, kernel=poly, score=0.569, total=   0.2s\n",
      "[CV] C=0.8, degree=3, gamma=auto, kernel=poly ........................\n",
      "[CV]  C=0.8, degree=3, gamma=auto, kernel=poly, score=0.567, total=   0.1s\n",
      "[CV] C=0.8, degree=3, gamma=auto, kernel=poly ........................\n",
      "[CV]  C=0.8, degree=3, gamma=auto, kernel=poly, score=0.570, total=   0.1s\n",
      "[CV] C=1, degree=2, gamma=auto, kernel=poly ..........................\n",
      "[CV]  C=1, degree=2, gamma=auto, kernel=poly, score=0.569, total=   0.1s\n",
      "[CV] C=1, degree=2, gamma=auto, kernel=poly ..........................\n",
      "[CV]  C=1, degree=2, gamma=auto, kernel=poly, score=0.569, total=   0.1s\n",
      "[CV] C=1, degree=2, gamma=auto, kernel=poly ..........................\n",
      "[CV]  C=1, degree=2, gamma=auto, kernel=poly, score=0.569, total=   0.2s\n",
      "[CV] C=1, degree=2, gamma=auto, kernel=poly ..........................\n",
      "[CV]  C=1, degree=2, gamma=auto, kernel=poly, score=0.567, total=   0.2s\n",
      "[CV] C=1, degree=2, gamma=auto, kernel=poly ..........................\n",
      "[CV]  C=1, degree=2, gamma=auto, kernel=poly, score=0.570, total=   0.2s\n",
      "[CV] C=1, degree=3, gamma=auto, kernel=poly ..........................\n",
      "[CV]  C=1, degree=3, gamma=auto, kernel=poly, score=0.569, total=   0.1s\n",
      "[CV] C=1, degree=3, gamma=auto, kernel=poly ..........................\n",
      "[CV]  C=1, degree=3, gamma=auto, kernel=poly, score=0.569, total=   0.1s\n",
      "[CV] C=1, degree=3, gamma=auto, kernel=poly ..........................\n",
      "[CV]  C=1, degree=3, gamma=auto, kernel=poly, score=0.569, total=   0.1s\n",
      "[CV] C=1, degree=3, gamma=auto, kernel=poly ..........................\n",
      "[CV]  C=1, degree=3, gamma=auto, kernel=poly, score=0.567, total=   0.1s\n",
      "[CV] C=1, degree=3, gamma=auto, kernel=poly ..........................\n",
      "[CV]  C=1, degree=3, gamma=auto, kernel=poly, score=0.570, total=   0.1s\n",
      "[CV] C=1.2, degree=2, gamma=auto, kernel=poly ........................\n",
      "[CV]  C=1.2, degree=2, gamma=auto, kernel=poly, score=0.569, total=   0.1s\n",
      "[CV] C=1.2, degree=2, gamma=auto, kernel=poly ........................\n",
      "[CV]  C=1.2, degree=2, gamma=auto, kernel=poly, score=0.569, total=   0.2s\n",
      "[CV] C=1.2, degree=2, gamma=auto, kernel=poly ........................\n",
      "[CV]  C=1.2, degree=2, gamma=auto, kernel=poly, score=0.569, total=   0.3s\n",
      "[CV] C=1.2, degree=2, gamma=auto, kernel=poly ........................\n",
      "[CV]  C=1.2, degree=2, gamma=auto, kernel=poly, score=0.567, total=   0.2s\n",
      "[CV] C=1.2, degree=2, gamma=auto, kernel=poly ........................\n",
      "[CV]  C=1.2, degree=2, gamma=auto, kernel=poly, score=0.570, total=   0.1s\n",
      "[CV] C=1.2, degree=3, gamma=auto, kernel=poly ........................\n",
      "[CV]  C=1.2, degree=3, gamma=auto, kernel=poly, score=0.569, total=   0.1s\n",
      "[CV] C=1.2, degree=3, gamma=auto, kernel=poly ........................\n",
      "[CV]  C=1.2, degree=3, gamma=auto, kernel=poly, score=0.569, total=   0.1s\n",
      "[CV] C=1.2, degree=3, gamma=auto, kernel=poly ........................\n",
      "[CV]  C=1.2, degree=3, gamma=auto, kernel=poly, score=0.569, total=   0.2s\n",
      "[CV] C=1.2, degree=3, gamma=auto, kernel=poly ........................\n",
      "[CV]  C=1.2, degree=3, gamma=auto, kernel=poly, score=0.567, total=   0.2s\n",
      "[CV] C=1.2, degree=3, gamma=auto, kernel=poly ........................\n",
      "[CV]  C=1.2, degree=3, gamma=auto, kernel=poly, score=0.570, total=   0.2s\n",
      "[CV] C=1.4, degree=2, gamma=auto, kernel=poly ........................\n",
      "[CV]  C=1.4, degree=2, gamma=auto, kernel=poly, score=0.569, total=   0.2s\n",
      "[CV] C=1.4, degree=2, gamma=auto, kernel=poly ........................\n",
      "[CV]  C=1.4, degree=2, gamma=auto, kernel=poly, score=0.569, total=   0.1s\n",
      "[CV] C=1.4, degree=2, gamma=auto, kernel=poly ........................\n",
      "[CV]  C=1.4, degree=2, gamma=auto, kernel=poly, score=0.569, total=   0.2s\n",
      "[CV] C=1.4, degree=2, gamma=auto, kernel=poly ........................\n",
      "[CV]  C=1.4, degree=2, gamma=auto, kernel=poly, score=0.567, total=   0.2s\n",
      "[CV] C=1.4, degree=2, gamma=auto, kernel=poly ........................\n",
      "[CV]  C=1.4, degree=2, gamma=auto, kernel=poly, score=0.570, total=   0.1s\n",
      "[CV] C=1.4, degree=3, gamma=auto, kernel=poly ........................\n",
      "[CV]  C=1.4, degree=3, gamma=auto, kernel=poly, score=0.569, total=   0.1s\n",
      "[CV] C=1.4, degree=3, gamma=auto, kernel=poly ........................\n",
      "[CV]  C=1.4, degree=3, gamma=auto, kernel=poly, score=0.569, total=   0.2s\n",
      "[CV] C=1.4, degree=3, gamma=auto, kernel=poly ........................\n",
      "[CV]  C=1.4, degree=3, gamma=auto, kernel=poly, score=0.569, total=   0.2s\n",
      "[CV] C=1.4, degree=3, gamma=auto, kernel=poly ........................\n",
      "[CV]  C=1.4, degree=3, gamma=auto, kernel=poly, score=0.567, total=   0.2s\n",
      "[CV] C=1.4, degree=3, gamma=auto, kernel=poly ........................\n",
      "[CV]  C=1.4, degree=3, gamma=auto, kernel=poly, score=0.570, total=   0.2s\n",
      "[CV] C=1.6, degree=2, gamma=auto, kernel=poly ........................\n",
      "[CV]  C=1.6, degree=2, gamma=auto, kernel=poly, score=0.569, total=   0.2s\n",
      "[CV] C=1.6, degree=2, gamma=auto, kernel=poly ........................\n",
      "[CV]  C=1.6, degree=2, gamma=auto, kernel=poly, score=0.569, total=   0.1s\n",
      "[CV] C=1.6, degree=2, gamma=auto, kernel=poly ........................\n",
      "[CV]  C=1.6, degree=2, gamma=auto, kernel=poly, score=0.569, total=   0.2s\n",
      "[CV] C=1.6, degree=2, gamma=auto, kernel=poly ........................\n",
      "[CV]  C=1.6, degree=2, gamma=auto, kernel=poly, score=0.567, total=   0.1s\n",
      "[CV] C=1.6, degree=2, gamma=auto, kernel=poly ........................\n",
      "[CV]  C=1.6, degree=2, gamma=auto, kernel=poly, score=0.573, total=   0.1s\n",
      "[CV] C=1.6, degree=3, gamma=auto, kernel=poly ........................\n",
      "[CV]  C=1.6, degree=3, gamma=auto, kernel=poly, score=0.569, total=   0.1s\n",
      "[CV] C=1.6, degree=3, gamma=auto, kernel=poly ........................\n",
      "[CV]  C=1.6, degree=3, gamma=auto, kernel=poly, score=0.569, total=   0.1s\n",
      "[CV] C=1.6, degree=3, gamma=auto, kernel=poly ........................\n",
      "[CV]  C=1.6, degree=3, gamma=auto, kernel=poly, score=0.569, total=   0.1s\n",
      "[CV] C=1.6, degree=3, gamma=auto, kernel=poly ........................\n",
      "[CV]  C=1.6, degree=3, gamma=auto, kernel=poly, score=0.567, total=   0.1s\n",
      "[CV] C=1.6, degree=3, gamma=auto, kernel=poly ........................\n",
      "[CV]  C=1.6, degree=3, gamma=auto, kernel=poly, score=0.570, total=   0.1s\n"
     ]
    },
    {
     "name": "stderr",
     "output_type": "stream",
     "text": [
      "[Parallel(n_jobs=1)]: Done 175 out of 175 | elapsed:   24.5s finished\n"
     ]
    },
    {
     "data": {
      "text/plain": [
       "GridSearchCV(estimator=SVC(),\n",
       "             param_grid=[{'C': [0.5, 0.7, 0.8, 1, 1.2, 1.4, 1.6],\n",
       "                          'gamma': ['auto'], 'kernel': ['linear']},\n",
       "                         {'C': [0.5, 0.7, 0.8, 1, 1.2, 1.4, 1.6],\n",
       "                          'gamma': ['auto'], 'kernel': ['rbf']},\n",
       "                         {'C': [0.5, 0.7, 0.8, 1, 1.2, 1.4, 1.6],\n",
       "                          'gamma': ['auto'], 'kernel': ['sigmoid']},\n",
       "                         {'C': [0.5, 0.7, 0.8, 1, 1.2, 1.4, 1.6],\n",
       "                          'degree': [2, 3], 'gamma': ['auto'],\n",
       "                          'kernel': ['poly']}],\n",
       "             verbose=3)"
      ]
     },
     "execution_count": 101,
     "metadata": {},
     "output_type": "execute_result"
    }
   ],
   "source": [
    "#fit the search by default the metric used to evaluate is the accuracy \n",
    "grid.fit(X3_train, y_train)"
   ]
  },
  {
   "cell_type": "code",
   "execution_count": 102,
   "metadata": {},
   "outputs": [
    {
     "name": "stdout",
     "output_type": "stream",
     "text": [
      "{'C': 1.2, 'gamma': 'auto', 'kernel': 'rbf'}\n"
     ]
    }
   ],
   "source": [
    "print(grid.best_params_)"
   ]
  },
  {
   "cell_type": "code",
   "execution_count": 103,
   "metadata": {},
   "outputs": [],
   "source": [
    "#tune the parameters and the kernel according to the searchgrid \n",
    "svc_B = SVC(C=1.2,gamma='auto',kernel='rbf')"
   ]
  },
  {
   "cell_type": "code",
   "execution_count": 104,
   "metadata": {},
   "outputs": [
    {
     "data": {
      "text/plain": [
       "SVC(C=1.2, gamma='auto')"
      ]
     },
     "execution_count": 104,
     "metadata": {},
     "output_type": "execute_result"
    }
   ],
   "source": [
    "#fit the model \n",
    "svc_B.fit(X3_train,y_train)"
   ]
  },
  {
   "cell_type": "code",
   "execution_count": 105,
   "metadata": {},
   "outputs": [],
   "source": [
    "#prediction on the test set \n",
    "y_pred_svc_txt_B=svc_B.predict(X3_test)"
   ]
  },
  {
   "cell_type": "code",
   "execution_count": 106,
   "metadata": {},
   "outputs": [
    {
     "data": {
      "text/plain": [
       "0.6535141800246609"
      ]
     },
     "execution_count": 106,
     "metadata": {},
     "output_type": "execute_result"
    }
   ],
   "source": [
    "#quick look at the metric\n",
    "accuracy_score(y_test,y_pred_svc_txt_B)"
   ]
  },
  {
   "cell_type": "markdown",
   "metadata": {},
   "source": [
    "## Evaluation of the metrics and conclusion "
   ]
  },
  {
   "cell_type": "markdown",
   "metadata": {},
   "source": [
    "Although the main metric to evaluate and decide the best model is the accuracy, I will have a look also to the other ones. In particular I will take in account: precision (positive predictive value), recall (true positive rate) and f1_score (sensitivity). In addition I will plot the confusion matrix for each model and the ROC-AUC curve. \n",
    "        "
   ]
  },
  {
   "cell_type": "code",
   "execution_count": 107,
   "metadata": {},
   "outputs": [],
   "source": [
    "from sklearn.metrics import  precision_score, recall_score, plot_confusion_matrix, classification_report "
   ]
  },
  {
   "cell_type": "code",
   "execution_count": 108,
   "metadata": {},
   "outputs": [],
   "source": [
    "####ROC Curve \n",
    "from sklearn.metrics import roc_curve\n",
    "from sklearn.metrics import roc_auc_score"
   ]
  },
  {
   "cell_type": "code",
   "execution_count": 109,
   "metadata": {},
   "outputs": [
    {
     "name": "stdout",
     "output_type": "stream",
     "text": [
      "--------------------------------------\n",
      "Naive Bayes classifier performance for test set  \n",
      "              precision    recall  f1-score   support\n",
      "\n",
      "           0       0.67      0.63      0.65       362\n",
      "           1       0.71      0.75      0.73       449\n",
      "\n",
      "    accuracy                           0.70       811\n",
      "   macro avg       0.69      0.69      0.69       811\n",
      "weighted avg       0.70      0.70      0.70       811\n",
      "\n",
      "--------------------------------------\n",
      "Logistic regression performance for test set  \n",
      "              precision    recall  f1-score   support\n",
      "\n",
      "           0       0.65      0.65      0.65       362\n",
      "           1       0.72      0.72      0.72       449\n",
      "\n",
      "    accuracy                           0.69       811\n",
      "   macro avg       0.69      0.69      0.69       811\n",
      "weighted avg       0.69      0.69      0.69       811\n",
      "\n",
      "--------------------------------------\n",
      "Support vector classifier for test set  \n",
      "              precision    recall  f1-score   support\n",
      "\n",
      "           0       0.66      0.47      0.55       362\n",
      "           1       0.65      0.80      0.72       449\n",
      "\n",
      "    accuracy                           0.65       811\n",
      "   macro avg       0.65      0.64      0.63       811\n",
      "weighted avg       0.65      0.65      0.64       811\n",
      "\n"
     ]
    }
   ],
   "source": [
    "\n",
    "# evaluation of Naive Bayes \n",
    "print(\"--------------------------------------\")\n",
    "print(\"Naive Bayes classifier performance for test set  \")\n",
    "print(classification_report(y_test,y_pred_nv_txt_B))\n",
    "\n",
    "#evaluation of Logistic regression  \n",
    "\n",
    "print(\"--------------------------------------\")\n",
    "print(\"Logistic regression performance for test set  \")\n",
    "print(classification_report(y_test,y_pred_log_txt_B))\n",
    "\n",
    "#evaluation of support vector classifier \n",
    "print(\"--------------------------------------\")\n",
    "print(\"Support vector classifier for test set  \")\n",
    "print(classification_report(y_test,y_pred_svc_txt_B))\n"
   ]
  },
  {
   "cell_type": "code",
   "execution_count": 110,
   "metadata": {},
   "outputs": [
    {
     "data": {
      "text/plain": [
       "Text(0.5, 1.0, 'Support vector classifier ')"
      ]
     },
     "execution_count": 110,
     "metadata": {},
     "output_type": "execute_result"
    },
    {
     "data": {
      "image/png": "[encoded data removed]",
      "text/plain": [
       "<Figure size 432x288 with 2 Axes>"
      ]
     },
     "metadata": {
      "needs_background": "light"
     },
     "output_type": "display_data"
    },
    {
     "data": {
      "image/png": "[encoded data removed]",
      "text/plain": [
       "<Figure size 432x288 with 2 Axes>"
      ]
     },
     "metadata": {
      "needs_background": "light"
     },
     "output_type": "display_data"
    },
    {
     "data": {
      "image/png": "[encoded data removed]",
      "text/plain": [
       "<Figure size 432x288 with 2 Axes>"
      ]
     },
     "metadata": {
      "needs_background": "light"
     },
     "output_type": "display_data"
    }
   ],
   "source": [
    "#plot the confusion matrix \n",
    "plot_confusion_matrix(nbc_B,X3_test, y_test)  \n",
    "plt.title('Naive Bayes')\n",
    "\n",
    "plot_confusion_matrix(model_txt_B,X2_test, y_test)  \n",
    "plt.title('Logistic regression ')\n",
    "\n",
    "plot_confusion_matrix(svc_B,X3_test, y_test)  \n",
    "plt.title('Support vector classifier ')\n"
   ]
  },
  {
   "cell_type": "code",
   "execution_count": 111,
   "metadata": {},
   "outputs": [
    {
     "name": "stdout",
     "output_type": "stream",
     "text": [
      "No Skill: ROC AUC=0.500\n",
      "Logistic: ROC AUC=0.685\n",
      "nb: ROC AUC=0.690\n",
      "svm: ROC AUC=0.636\n"
     ]
    },
    {
     "data": {
      "image/png": "[encoded data removed]",
      "text/plain": [
       "<Figure size 432x288 with 1 Axes>"
      ]
     },
     "metadata": {
      "needs_background": "light"
     },
     "output_type": "display_data"
    }
   ],
   "source": [
    "# calculate scores\n",
    "\n",
    "\n",
    "# generate a no skill prediction (majority class)\n",
    "ns_probs = [0 for _ in range(len(y_test))]\n",
    "\n",
    "\n",
    "ns_auc = roc_auc_score(y_test, ns_probs)\n",
    "lr_auc = roc_auc_score(y_test, y_pred_log_txt_B)\n",
    "nb_auc=roc_auc_score(y_test,y_pred_nv_txt_B)\n",
    "svc_auc=roc_auc_score(y_test,y_pred_svc_txt_B)\n",
    "\n",
    "# summarize scores\n",
    "print('No Skill: ROC AUC=%.3f' % (ns_auc))\n",
    "print('Logistic: ROC AUC=%.3f' % (lr_auc))\n",
    "print('nb: ROC AUC=%.3f' % (nb_auc))\n",
    "print('svm: ROC AUC=%.3f' % (svc_auc))\n",
    "\n",
    "# calculate roc curves\n",
    "ns_fpr, ns_tpr, _ = roc_curve(y_test, ns_probs)\n",
    "lr_fpr, lr_tpr, _ = roc_curve(y_test,y_pred_log_txt_B)\n",
    "nb_fpr,nb_tpr,_ = roc_curve(y_test,y_pred_nv_txt_B)\n",
    "svm_fpr,svm_tpr,_ = roc_curve(y_test,y_pred_svc_txt_B)\n",
    "\n",
    "\n",
    "\n",
    "#6  plot the roc curve for the model\n",
    "\n",
    "plt.plot(ns_fpr, ns_tpr, linestyle='--', label='No Skill')\n",
    "plt.plot(lr_fpr, lr_tpr, marker='.', label='Logistic')\n",
    "plt.plot(nb_fpr, nb_tpr, marker='+', label='Naive Bayes')\n",
    "plt.plot(svm_fpr,svm_tpr, marker='o', label='Support vector classifier')\n",
    "plt.xlabel('False Positive Rate')\n",
    "plt.ylabel('True Positive Rate')\n",
    "plt.legend()\n",
    "# show the plot\n",
    "plt.show()\n",
    "\n",
    "\n"
   ]
  },
  {
   "cell_type": "markdown",
   "metadata": {},
   "source": [
    "By having a look at the metrics and the plots above I can say that the NaiveBayes and Logistic regression have very similar performance. Although the assumptions for its implementation are not empirically verified The Naive Bayes model has the bigger area under the ROC-AUC curve compared with the others model and the higher accuracy than it is my best model. Regarding the others metrics analyzed for the Naive Bayes model I can say that this model works better in identify RE-HOSPITALIZED patients, with a higher precision and recall with respect to the identification of non RE-HOSPITALIZED patients. Similar behaviour afflict also the logistic regression model.\n",
    "\n",
    "For support vector machine I obtain really good result in the identification of RE_HOSPITALIZED patients but indeed a really poor result for non RE_HOSPITALIZED patients in which the recall is lower than a random choice model. \n",
    "\n"
   ]
  }
 ],
 "metadata": {
  "kernelspec": {
   "display_name": "Python 3",
   "language": "python",
   "name": "python3"
  },
  "language_info": {
   "codemirror_mode": {
    "name": "ipython",
    "version": 3
   },
   "file_extension": ".py",
   "mimetype": "text/x-python",
   "name": "python",
   "nbconvert_exporter": "python",
   "pygments_lexer": "ipython3",
   "version": "3.8.5"
  }
 },
 "nbformat": 4,
 "nbformat_minor": 4
}
